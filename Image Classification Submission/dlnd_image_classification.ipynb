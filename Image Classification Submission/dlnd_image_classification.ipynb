{
 "cells": [
  {
   "cell_type": "markdown",
   "metadata": {
    "collapsed": true,
    "deletable": true,
    "editable": true
   },
   "source": [
    "# Image Classification\n",
    "In this project, you'll classify images from the [CIFAR-10 dataset](https://www.cs.toronto.edu/~kriz/cifar.html).  The dataset consists of airplanes, dogs, cats, and other objects. You'll preprocess the images, then train a convolutional neural network on all the samples. The images need to be normalized and the labels need to be one-hot encoded.  You'll get to apply what you learned and build a convolutional, max pooling, dropout, and fully connected layers.  At the end, you'll get to see your neural network's predictions on the sample images.\n",
    "## Get the Data\n",
    "Run the following cell to download the [CIFAR-10 dataset for python](https://www.cs.toronto.edu/~kriz/cifar-10-python.tar.gz)."
   ]
  },
  {
   "cell_type": "code",
   "execution_count": 1,
   "metadata": {
    "collapsed": false,
    "deletable": true,
    "editable": true
   },
   "outputs": [
    {
     "name": "stdout",
     "output_type": "stream",
     "text": [
      "All files found!\n"
     ]
    }
   ],
   "source": [
    "\"\"\"\n",
    "DON'T MODIFY ANYTHING IN THIS CELL THAT IS BELOW THIS LINE\n",
    "\"\"\"\n",
    "from urllib.request import urlretrieve\n",
    "from os.path import isfile, isdir\n",
    "from tqdm import tqdm\n",
    "import problem_unittests as tests\n",
    "import tarfile\n",
    "\n",
    "cifar10_dataset_folder_path = 'cifar-10-batches-py'\n",
    "\n",
    "class DLProgress(tqdm):\n",
    "    last_block = 0\n",
    "\n",
    "    def hook(self, block_num=1, block_size=1, total_size=None):\n",
    "        self.total = total_size\n",
    "        self.update((block_num - self.last_block) * block_size)\n",
    "        self.last_block = block_num\n",
    "\n",
    "if not isfile('cifar-10-python.tar.gz'):\n",
    "    with DLProgress(unit='B', unit_scale=True, miniters=1, desc='CIFAR-10 Dataset') as pbar:\n",
    "        urlretrieve(\n",
    "            'https://www.cs.toronto.edu/~kriz/cifar-10-python.tar.gz',\n",
    "            'cifar-10-python.tar.gz',\n",
    "            pbar.hook)\n",
    "\n",
    "if not isdir(cifar10_dataset_folder_path):\n",
    "    with tarfile.open('cifar-10-python.tar.gz') as tar:\n",
    "        tar.extractall()\n",
    "        tar.close()\n",
    "\n",
    "\n",
    "tests.test_folder_path(cifar10_dataset_folder_path)"
   ]
  },
  {
   "cell_type": "markdown",
   "metadata": {
    "deletable": true,
    "editable": true
   },
   "source": [
    "## Explore the Data\n",
    "The dataset is broken into batches to prevent your machine from running out of memory.  The CIFAR-10 dataset consists of 5 batches, named `data_batch_1`, `data_batch_2`, etc.. Each batch contains the labels and images that are one of the following:\n",
    "* airplane\n",
    "* automobile\n",
    "* bird\n",
    "* cat\n",
    "* deer\n",
    "* dog\n",
    "* frog\n",
    "* horse\n",
    "* ship\n",
    "* truck\n",
    "\n",
    "Understanding a dataset is part of making predictions on the data.  Play around with the code cell below by changing the `batch_id` and `sample_id`. The `batch_id` is the id for a batch (1-5). The `sample_id` is the id for a image and label pair in the batch.\n",
    "\n",
    "Ask yourself \"What are all possible labels?\", \"What is the range of values for the image data?\", \"Are the labels in order or random?\".  Answers to questions like these will help you preprocess the data and end up with better predictions."
   ]
  },
  {
   "cell_type": "code",
   "execution_count": 2,
   "metadata": {
    "collapsed": false,
    "deletable": true,
    "editable": true
   },
   "outputs": [
    {
     "name": "stdout",
     "output_type": "stream",
     "text": [
      "\n",
      "Stats of batch 1:\n",
      "Samples: 10000\n",
      "Label Counts: {0: 1005, 1: 974, 2: 1032, 3: 1016, 4: 999, 5: 937, 6: 1030, 7: 1001, 8: 1025, 9: 981}\n",
      "First 20 Labels: [6, 9, 9, 4, 1, 1, 2, 7, 8, 3, 4, 7, 7, 2, 9, 9, 9, 3, 2, 6]\n",
      "\n",
      "Example of Image 5:\n",
      "Image - Min Value: 0 Max Value: 252\n",
      "Image - Shape: (32, 32, 3)\n",
      "Label - Label Id: 1 Name: automobile\n"
     ]
    },
    {
     "data": {
      "image/png": "[encoded data removed]",
      "text/plain": [
       "<matplotlib.figure.Figure at 0x7f6c50bb73c8>"
      ]
     },
     "metadata": {
      "image/png": {
       "height": 250,
       "width": 253
      }
     },
     "output_type": "display_data"
    }
   ],
   "source": [
    "%matplotlib inline\n",
    "%config InlineBackend.figure_format = 'retina'\n",
    "\n",
    "import helper\n",
    "import numpy as np\n",
    "\n",
    "# Explore the dataset\n",
    "batch_id = 1\n",
    "sample_id = 5\n",
    "helper.display_stats(cifar10_dataset_folder_path, batch_id, sample_id)"
   ]
  },
  {
   "cell_type": "markdown",
   "metadata": {
    "deletable": true,
    "editable": true
   },
   "source": [
    "## Implement Preprocess Functions\n",
    "### Normalize\n",
    "In the cell below, implement the `normalize` function to take in image data, `x`, and return it as a normalized Numpy array. The values should be in the range of 0 to 1, inclusive.  The return object should be the same shape as `x`."
   ]
  },
  {
   "cell_type": "code",
   "execution_count": 3,
   "metadata": {
    "collapsed": false,
    "deletable": true,
    "editable": true
   },
   "outputs": [
    {
     "name": "stdout",
     "output_type": "stream",
     "text": [
      "Tests Passed\n"
     ]
    }
   ],
   "source": [
    "def normalize(x):\n",
    "    \"\"\"\n",
    "    Normalize a list of sample image data in the range of 0 to 1\n",
    "    : x: List of image data.  The image shape is (32, 32, 3)\n",
    "    : return: Numpy array of normalize data\n",
    "    \"\"\"\n",
    "    # TODO: Implement Function\n",
    "    return x / 255\n",
    "\n",
    "\n",
    "\n",
    "\"\"\"\n",
    "DON'T MODIFY ANYTHING IN THIS CELL THAT IS BELOW THIS LINE\n",
    "\"\"\"\n",
    "tests.test_normalize(normalize)"
   ]
  },
  {
   "cell_type": "markdown",
   "metadata": {
    "deletable": true,
    "editable": true
   },
   "source": [
    "### One-hot encode\n",
    "Just like the previous code cell, you'll be implementing a function for preprocessing.  This time, you'll implement the `one_hot_encode` function. The input, `x`, are a list of labels.  Implement the function to return the list of labels as One-Hot encoded Numpy array.  The possible values for labels are 0 to 9. The one-hot encoding function should return the same encoding for each value between each call to `one_hot_encode`.  Make sure to save the map of encodings outside the function.\n",
    "\n",
    "Hint: Don't reinvent the wheel."
   ]
  },
  {
   "cell_type": "code",
   "execution_count": 4,
   "metadata": {
    "collapsed": false,
    "deletable": true,
    "editable": true
   },
   "outputs": [
    {
     "name": "stdout",
     "output_type": "stream",
     "text": [
      "Tests Passed\n"
     ]
    }
   ],
   "source": [
    "from sklearn import preprocessing\n",
    "lb = preprocessing.LabelBinarizer()\n",
    "lb.fit([0,1,2,3,4,5,6,7,8,9])\n",
    "\n",
    "def one_hot_encode(x):\n",
    "    \"\"\"\n",
    "    One hot encode a list of sample labels. Return a one-hot encoded vector for each label.\n",
    "    : x: List of sample Labels\n",
    "    : return: Numpy array of one-hot encoded labels\n",
    "    \"\"\"\n",
    "    # TODO: Implement Function\n",
    "    return lb.transform(x)\n",
    "\n",
    "\n",
    "\"\"\"\n",
    "DON'T MODIFY ANYTHING IN THIS CELL THAT IS BELOW THIS LINE\n",
    "\"\"\"\n",
    "tests.test_one_hot_encode(one_hot_encode)"
   ]
  },
  {
   "cell_type": "markdown",
   "metadata": {
    "deletable": true,
    "editable": true
   },
   "source": [
    "### Randomize Data\n",
    "As you saw from exploring the data above, the order of the samples are randomized.  It doesn't hurt to randomize it again, but you don't need to for this dataset."
   ]
  },
  {
   "cell_type": "markdown",
   "metadata": {
    "deletable": true,
    "editable": true
   },
   "source": [
    "## Preprocess all the data and save it\n",
    "Running the code cell below will preprocess all the CIFAR-10 data and save it to file. The code below also uses 10% of the training data for validation."
   ]
  },
  {
   "cell_type": "code",
   "execution_count": 5,
   "metadata": {
    "collapsed": false,
    "deletable": true,
    "editable": true
   },
   "outputs": [],
   "source": [
    "\"\"\"\n",
    "DON'T MODIFY ANYTHING IN THIS CELL\n",
    "\"\"\"\n",
    "# Preprocess Training, Validation, and Testing Data\n",
    "helper.preprocess_and_save_data(cifar10_dataset_folder_path, normalize, one_hot_encode)"
   ]
  },
  {
   "cell_type": "markdown",
   "metadata": {
    "deletable": true,
    "editable": true
   },
   "source": [
    "# Check Point\n",
    "This is your first checkpoint.  If you ever decide to come back to this notebook or have to restart the notebook, you can start from here.  The preprocessed data has been saved to disk."
   ]
  },
  {
   "cell_type": "code",
   "execution_count": 6,
   "metadata": {
    "collapsed": true,
    "deletable": true,
    "editable": true
   },
   "outputs": [],
   "source": [
    "\"\"\"\n",
    "DON'T MODIFY ANYTHING IN THIS CELL\n",
    "\"\"\"\n",
    "import pickle\n",
    "import problem_unittests as tests\n",
    "import helper\n",
    "\n",
    "# Load the Preprocessed Validation data\n",
    "valid_features, valid_labels = pickle.load(open('preprocess_validation.p', mode='rb'))"
   ]
  },
  {
   "cell_type": "markdown",
   "metadata": {
    "deletable": true,
    "editable": true
   },
   "source": [
    "## Build the network\n",
    "For the neural network, you'll build each layer into a function.  Most of the code you've seen has been outside of functions. To test your code more thoroughly, we require that you put each layer in a function.  This allows us to give you better feedback and test for simple mistakes using our unittests before you submit your project.\n",
    "\n",
    ">**Note:** If you're finding it hard to dedicate enough time for this course each week, we've provided a small shortcut to this part of the project. In the next couple of problems, you'll have the option to use classes from the [TensorFlow Layers](https://www.tensorflow.org/api_docs/python/tf/layers) or [TensorFlow Layers (contrib)](https://www.tensorflow.org/api_guides/python/contrib.layers) packages to build each layer, except the layers you build in the \"Convolutional and Max Pooling Layer\" section.  TF Layers is similar to Keras's and TFLearn's abstraction to layers, so it's easy to pickup.\n",
    "\n",
    ">However, if you would like to get the most out of this course, try to solve all the problems _without_ using anything from the TF Layers packages. You **can** still use classes from other packages that happen to have the same name as ones you find in TF Layers! For example, instead of using the TF Layers version of the `conv2d` class, [tf.layers.conv2d](https://www.tensorflow.org/api_docs/python/tf/layers/conv2d), you would want to use the TF Neural Network version of `conv2d`, [tf.nn.conv2d](https://www.tensorflow.org/api_docs/python/tf/nn/conv2d). \n",
    "\n",
    "Let's begin!\n",
    "\n",
    "### Input\n",
    "The neural network needs to read the image data, one-hot encoded labels, and dropout keep probability. Implement the following functions\n",
    "* Implement `neural_net_image_input`\n",
    " * Return a [TF Placeholder](https://www.tensorflow.org/api_docs/python/tf/placeholder)\n",
    " * Set the shape using `image_shape` with batch size set to `None`.\n",
    " * Name the TensorFlow placeholder \"x\" using the TensorFlow `name` parameter in the [TF Placeholder](https://www.tensorflow.org/api_docs/python/tf/placeholder).\n",
    "* Implement `neural_net_label_input`\n",
    " * Return a [TF Placeholder](https://www.tensorflow.org/api_docs/python/tf/placeholder)\n",
    " * Set the shape using `n_classes` with batch size set to `None`.\n",
    " * Name the TensorFlow placeholder \"y\" using the TensorFlow `name` parameter in the [TF Placeholder](https://www.tensorflow.org/api_docs/python/tf/placeholder).\n",
    "* Implement `neural_net_keep_prob_input`\n",
    " * Return a [TF Placeholder](https://www.tensorflow.org/api_docs/python/tf/placeholder) for dropout keep probability.\n",
    " * Name the TensorFlow placeholder \"keep_prob\" using the TensorFlow `name` parameter in the [TF Placeholder](https://www.tensorflow.org/api_docs/python/tf/placeholder).\n",
    "\n",
    "These names will be used at the end of the project to load your saved model.\n",
    "\n",
    "Note: `None` for shapes in TensorFlow allow for a dynamic size."
   ]
  },
  {
   "cell_type": "code",
   "execution_count": 7,
   "metadata": {
    "collapsed": false,
    "deletable": true,
    "editable": true
   },
   "outputs": [
    {
     "name": "stdout",
     "output_type": "stream",
     "text": [
      "Image Input Tests Passed.\n",
      "Label Input Tests Passed.\n",
      "Keep Prob Tests Passed.\n"
     ]
    }
   ],
   "source": [
    "import tensorflow as tf\n",
    "\n",
    "def neural_net_image_input(image_shape):\n",
    "    \"\"\"\n",
    "    Return a Tensor for a batch of image input\n",
    "    : image_shape: Shape of the images\n",
    "    : return: Tensor for image input.\n",
    "    \"\"\"\n",
    "    # TODO: Implement Function\n",
    "    x = tf.placeholder(tf.float32, shape=[None, *image_shape], name='x')\n",
    "    return x\n",
    "\n",
    "def neural_net_label_input(n_classes):\n",
    "    \"\"\"\n",
    "    Return a Tensor for a batch of label input\n",
    "    : n_classes: Number of classes\n",
    "    : return: Tensor for label input.\n",
    "    \"\"\"\n",
    "    # TODO: Implement Function\n",
    "    y = tf.placeholder(tf.float32, shape=[None, n_classes], name='y')\n",
    "    return y\n",
    "\n",
    "def neural_net_keep_prob_input():\n",
    "    \"\"\"\n",
    "    Return a Tensor for keep probability\n",
    "    : return: Tensor for keep probability.\n",
    "    \"\"\"\n",
    "    # TODO: Implement Function\n",
    "    keep_prob = tf.placeholder(tf.float32, name='keep_prob')\n",
    "    return keep_prob\n",
    "\n",
    "\n",
    "\"\"\"\n",
    "DON'T MODIFY ANYTHING IN THIS CELL THAT IS BELOW THIS LINE\n",
    "\"\"\"\n",
    "tf.reset_default_graph()\n",
    "tests.test_nn_image_inputs(neural_net_image_input)\n",
    "tests.test_nn_label_inputs(neural_net_label_input)\n",
    "tests.test_nn_keep_prob_inputs(neural_net_keep_prob_input)"
   ]
  },
  {
   "cell_type": "markdown",
   "metadata": {
    "deletable": true,
    "editable": true
   },
   "source": [
    "### Convolution and Max Pooling Layer\n",
    "Convolution layers have a lot of success with images. For this code cell, you should implement the function `conv2d_maxpool` to apply convolution then max pooling:\n",
    "* Create the weight and bias using `conv_ksize`, `conv_num_outputs` and the shape of `x_tensor`.\n",
    "* Apply a convolution to `x_tensor` using weight and `conv_strides`.\n",
    " * We recommend you use same padding, but you're welcome to use any padding.\n",
    "* Add bias\n",
    "* Add a nonlinear activation to the convolution.\n",
    "* Apply Max Pooling using `pool_ksize` and `pool_strides`.\n",
    " * We recommend you use same padding, but you're welcome to use any padding.\n",
    "\n",
    "**Note:** You **can't** use [TensorFlow Layers](https://www.tensorflow.org/api_docs/python/tf/layers) or [TensorFlow Layers (contrib)](https://www.tensorflow.org/api_guides/python/contrib.layers) for **this** layer, but you can still use TensorFlow's [Neural Network](https://www.tensorflow.org/api_docs/python/tf/nn) package. You may still use the shortcut option for all the **other** layers."
   ]
  },
  {
   "cell_type": "code",
   "execution_count": 8,
   "metadata": {
    "collapsed": false,
    "deletable": true,
    "editable": true
   },
   "outputs": [
    {
     "name": "stdout",
     "output_type": "stream",
     "text": [
      "Tests Passed\n"
     ]
    }
   ],
   "source": [
    "def conv2d_maxpool(x_tensor, conv_num_outputs, conv_ksize, conv_strides, pool_ksize, pool_strides):\n",
    "    \"\"\"\n",
    "    Apply convolution then max pooling to x_tensor\n",
    "    :param x_tensor: TensorFlow Tensor\n",
    "    :param conv_num_outputs: Number of outputs for the convolutional layer\n",
    "    :param conv_ksize: kernal size 2-D Tuple for the convolutional layer\n",
    "    :param conv_strides: Stride 2-D Tuple for convolution\n",
    "    :param pool_ksize: kernal size 2-D Tuple for pool\n",
    "    :param pool_strides: Stride 2-D Tuple for pool\n",
    "    : return: A tensor that represents convolution and max pooling of x_tensor\n",
    "    \"\"\"\n",
    "    # TODO: Implement Function\n",
    "        # TODO: Implement Function\n",
    "    # Create weights \n",
    "    weights = tf.Variable(tf.truncated_normal(\n",
    "        shape=[conv_ksize[0], conv_ksize[1], x_tensor.get_shape().as_list()[3], conv_num_outputs], stddev=0.05))\n",
    "\n",
    "\n",
    "    # Create Bias \n",
    "    bias = tf.Variable(tf.zeros(conv_num_outputs))\n",
    "    \n",
    "    # Apply convolution \n",
    "    x_tensor = tf.nn.conv2d(input=x_tensor, \n",
    "                            filter=weights, \n",
    "                            strides=[1, conv_strides[0], conv_strides[1], 1], \n",
    "                            padding='SAME')\n",
    "    \n",
    "    # Add Bias \n",
    "    x_tensor = tf.nn.bias_add(x_tensor, bias)\n",
    "    \n",
    "    # Add nonlinearity \n",
    "    x_tensor = tf.nn.relu(x_tensor)\n",
    "    \n",
    "  # Apply maxpooling \n",
    "    x_tensor = tf.nn.max_pool(value=x_tensor,\n",
    "                              ksize=[1, pool_ksize[0], pool_ksize[1], 1],\n",
    "                              strides= [1, pool_strides[0], pool_strides[1], 1],\n",
    "                              padding='SAME')\n",
    "    \n",
    "    return x_tensor\n",
    "\n",
    "\n",
    "\n",
    "\"\"\"\n",
    "DON'T MODIFY ANYTHING IN THIS CELL THAT IS BELOW THIS LINE\n",
    "\"\"\"\n",
    "tests.test_con_pool(conv2d_maxpool)"
   ]
  },
  {
   "cell_type": "markdown",
   "metadata": {
    "deletable": true,
    "editable": true
   },
   "source": [
    "### Flatten Layer\n",
    "Implement the `flatten` function to change the dimension of `x_tensor` from a 4-D tensor to a 2-D tensor.  The output should be the shape (*Batch Size*, *Flattened Image Size*). Shortcut option: you can use classes from the [TensorFlow Layers](https://www.tensorflow.org/api_docs/python/tf/layers) or [TensorFlow Layers (contrib)](https://www.tensorflow.org/api_guides/python/contrib.layers) packages for this layer. For more of a challenge, only use other TensorFlow packages."
   ]
  },
  {
   "cell_type": "code",
   "execution_count": 9,
   "metadata": {
    "collapsed": false,
    "deletable": true,
    "editable": true
   },
   "outputs": [
    {
     "name": "stdout",
     "output_type": "stream",
     "text": [
      "Tests Passed\n"
     ]
    }
   ],
   "source": [
    "def flatten(x_tensor):\n",
    "    \"\"\"\n",
    "    Flatten x_tensor to (Batch Size, Flattened Image Size)\n",
    "    : x_tensor: A tensor of size (Batch Size, ...), where ... are the image dimensions.\n",
    "    : return: A tensor of size (Batch Size, Flattened Image Size).\n",
    "    \"\"\"\n",
    "    # TODO: Implement Function\n",
    "    return tf.contrib.layers.flatten(x_tensor)\n",
    "\n",
    "\n",
    "\"\"\"\n",
    "DON'T MODIFY ANYTHING IN THIS CELL THAT IS BELOW THIS LINE\n",
    "\"\"\"\n",
    "tests.test_flatten(flatten)"
   ]
  },
  {
   "cell_type": "markdown",
   "metadata": {
    "deletable": true,
    "editable": true
   },
   "source": [
    "### Fully-Connected Layer\n",
    "Implement the `fully_conn` function to apply a fully connected layer to `x_tensor` with the shape (*Batch Size*, *num_outputs*). Shortcut option: you can use classes from the [TensorFlow Layers](https://www.tensorflow.org/api_docs/python/tf/layers) or [TensorFlow Layers (contrib)](https://www.tensorflow.org/api_guides/python/contrib.layers) packages for this layer. For more of a challenge, only use other TensorFlow packages."
   ]
  },
  {
   "cell_type": "code",
   "execution_count": 10,
   "metadata": {
    "collapsed": false,
    "deletable": true,
    "editable": true
   },
   "outputs": [
    {
     "name": "stdout",
     "output_type": "stream",
     "text": [
      "Tests Passed\n"
     ]
    }
   ],
   "source": [
    "def fully_conn(x_tensor, num_outputs):\n",
    "    \"\"\"\n",
    "    Apply a fully connected layer to x_tensor using weight and bias\n",
    "    : x_tensor: A 2-D tensor where the first dimension is batch size.\n",
    "    : num_outputs: The number of output that the new tensor should be.\n",
    "    : return: A 2-D tensor where the second dimension is num_outputs.\n",
    "    \"\"\"\n",
    "    # TODO: Implement Function\n",
    "    return tf.contrib.layers.fully_connected(x_tensor, num_outputs)\n",
    "\n",
    "\n",
    "\"\"\"\n",
    "DON'T MODIFY ANYTHING IN THIS CELL THAT IS BELOW THIS LINE\n",
    "\"\"\"\n",
    "tests.test_fully_conn(fully_conn)"
   ]
  },
  {
   "cell_type": "markdown",
   "metadata": {
    "deletable": true,
    "editable": true
   },
   "source": [
    "### Output Layer\n",
    "Implement the `output` function to apply a fully connected layer to `x_tensor` with the shape (*Batch Size*, *num_outputs*). Shortcut option: you can use classes from the [TensorFlow Layers](https://www.tensorflow.org/api_docs/python/tf/layers) or [TensorFlow Layers (contrib)](https://www.tensorflow.org/api_guides/python/contrib.layers) packages for this layer. For more of a challenge, only use other TensorFlow packages.\n",
    "\n",
    "**Note:** Activation, softmax, or cross entropy should **not** be applied to this."
   ]
  },
  {
   "cell_type": "code",
   "execution_count": 11,
   "metadata": {
    "collapsed": false,
    "deletable": true,
    "editable": true
   },
   "outputs": [
    {
     "name": "stdout",
     "output_type": "stream",
     "text": [
      "Tests Passed\n"
     ]
    }
   ],
   "source": [
    "def output(x_tensor, num_outputs):\n",
    "    \"\"\"\n",
    "    Apply a output layer to x_tensor using weight and bias\n",
    "    : x_tensor: A 2-D tensor where the first dimension is batch size.\n",
    "    : num_outputs: The number of output that the new tensor should be.\n",
    "    : return: A 2-D tensor where the second dimension is num_outputs.\n",
    "    \"\"\"\n",
    "    # TODO: Implement Function\n",
    "    return tf.contrib.layers.fully_connected(x_tensor, num_outputs,activation_fn=None)\n",
    "\n",
    "\n",
    "\"\"\"\n",
    "DON'T MODIFY ANYTHING IN THIS CELL THAT IS BELOW THIS LINE\n",
    "\"\"\"\n",
    "tests.test_output(output)"
   ]
  },
  {
   "cell_type": "markdown",
   "metadata": {
    "deletable": true,
    "editable": true
   },
   "source": [
    "### Create Convolutional Model\n",
    "Implement the function `conv_net` to create a convolutional neural network model. The function takes in a batch of images, `x`, and outputs logits.  Use the layers you created above to create this model:\n",
    "\n",
    "* Apply 1, 2, or 3 Convolution and Max Pool layers\n",
    "* Apply a Flatten Layer\n",
    "* Apply 1, 2, or 3 Fully Connected Layers\n",
    "* Apply an Output Layer\n",
    "* Return the output\n",
    "* Apply [TensorFlow's Dropout](https://www.tensorflow.org/api_docs/python/tf/nn/dropout) to one or more layers in the model using `keep_prob`. "
   ]
  },
  {
   "cell_type": "code",
   "execution_count": 12,
   "metadata": {
    "collapsed": false,
    "deletable": true,
    "editable": true
   },
   "outputs": [
    {
     "name": "stdout",
     "output_type": "stream",
     "text": [
      "Neural Network Built!\n"
     ]
    }
   ],
   "source": [
    "def conv_net(x, keep_prob):\n",
    "    \"\"\"\n",
    "    Create a convolutional neural network model\n",
    "    : x: Placeholder tensor that holds image data.\n",
    "    : keep_prob: Placeholder tensor that hold dropout keep probability.\n",
    "    : return: Tensor that represents logits\n",
    "    \"\"\"\n",
    "    # TODO: Apply 1, 2, or 3 Convolution and Max Pool layers\n",
    "    #    Play around with different number of outputs, kernel size and stride\n",
    "    # Function Definition from Above:\n",
    "    #    conv2d_maxpool(x_tensor, conv_num_outputs, conv_ksize, conv_strides, pool_ksize, pool_strides)\n",
    "    x=conv2d_maxpool(x, 10, [2,2], [1,1], [2,2], [1,1])\n",
    "    x = tf.nn.dropout(x,keep_prob)\n",
    "    x=conv2d_maxpool(x, 24, [4,4], [1,1], [4,4], [1,1])\n",
    "    x = tf.nn.dropout(x,keep_prob)\n",
    "    # TODO: Apply a Flatten Layer\n",
    "    # Function Definition from Above:\n",
    "    #   flatten(x_tensor)\n",
    "    x=flatten(x)\n",
    "    \n",
    "\n",
    "    # TODO: Apply 1, 2, or 3 Fully Connected Layers\n",
    "    #    Play around with different number of outputs\n",
    "    # Function Definition from Above:\n",
    "    #   fully_conn(x_tensor, num_outputs)\n",
    "    x=fully_conn(x,128)\n",
    "    x=fully_conn(x,128)\n",
    "    x=fully_conn(x,64)\n",
    "    \n",
    "    \n",
    "    # TODO: Apply an Output Layer\n",
    "    #    Set this to the number of classes\n",
    "    # Function Definition from Above:\n",
    "    #   output(x_tensor, num_outputs)\n",
    "    x=output(x,10)\n",
    "    \n",
    "    # TODO: return output\n",
    "    return x\n",
    "\n",
    "\n",
    "\"\"\"\n",
    "DON'T MODIFY ANYTHING IN THIS CELL THAT IS BELOW THIS LINE\n",
    "\"\"\"\n",
    "\n",
    "##############################\n",
    "## Build the Neural Network ##\n",
    "##############################\n",
    "\n",
    "# Remove previous weights, bias, inputs, etc..\n",
    "tf.reset_default_graph()\n",
    "\n",
    "# Inputs\n",
    "x = neural_net_image_input((32, 32, 3))\n",
    "y = neural_net_label_input(10)\n",
    "keep_prob = neural_net_keep_prob_input()\n",
    "\n",
    "# Model\n",
    "logits = conv_net(x, keep_prob)\n",
    "\n",
    "# Name logits Tensor, so that is can be loaded from disk after training\n",
    "logits = tf.identity(logits, name='logits')\n",
    "\n",
    "# Loss and Optimizer\n",
    "cost = tf.reduce_mean(tf.nn.softmax_cross_entropy_with_logits(logits=logits, labels=y))\n",
    "optimizer = tf.train.AdamOptimizer().minimize(cost)\n",
    "\n",
    "# Accuracy\n",
    "correct_pred = tf.equal(tf.argmax(logits, 1), tf.argmax(y, 1))\n",
    "accuracy = tf.reduce_mean(tf.cast(correct_pred, tf.float32), name='accuracy')\n",
    "\n",
    "tests.test_conv_net(conv_net)"
   ]
  },
  {
   "cell_type": "markdown",
   "metadata": {
    "deletable": true,
    "editable": true
   },
   "source": [
    "## Train the Neural Network\n",
    "### Single Optimization\n",
    "Implement the function `train_neural_network` to do a single optimization.  The optimization should use `optimizer` to optimize in `session` with a `feed_dict` of the following:\n",
    "* `x` for image input\n",
    "* `y` for labels\n",
    "* `keep_prob` for keep probability for dropout\n",
    "\n",
    "This function will be called for each batch, so `tf.global_variables_initializer()` has already been called.\n",
    "\n",
    "Note: Nothing needs to be returned. This function is only optimizing the neural network."
   ]
  },
  {
   "cell_type": "code",
   "execution_count": 13,
   "metadata": {
    "collapsed": false,
    "deletable": true,
    "editable": true
   },
   "outputs": [
    {
     "name": "stdout",
     "output_type": "stream",
     "text": [
      "Tests Passed\n"
     ]
    }
   ],
   "source": [
    "def train_neural_network(session, optimizer, keep_probability, feature_batch, label_batch):\n",
    "    \"\"\"\n",
    "    Optimize the session on a batch of images and labels\n",
    "    : session: Current TensorFlow session\n",
    "    : optimizer: TensorFlow optimizer function\n",
    "    : keep_probability: keep probability\n",
    "    : feature_batch: Batch of Numpy image data\n",
    "    : label_batch: Batch of Numpy label data\n",
    "    \"\"\"\n",
    "    # TODO: Implement Function\n",
    "    feed_dict_train = { x: feature_batch,\n",
    "                        y: label_batch,\n",
    "                        keep_prob: keep_probability\n",
    "    }\n",
    "    \n",
    "    session.run(optimizer, feed_dict=feed_dict_train)\n",
    "\n",
    "\n",
    "\"\"\"\n",
    "DON'T MODIFY ANYTHING IN THIS CELL THAT IS BELOW THIS LINE\n",
    "\"\"\"\n",
    "tests.test_train_nn(train_neural_network)"
   ]
  },
  {
   "cell_type": "markdown",
   "metadata": {
    "deletable": true,
    "editable": true
   },
   "source": [
    "### Show Stats\n",
    "Implement the function `print_stats` to print loss and validation accuracy.  Use the global variables `valid_features` and `valid_labels` to calculate validation accuracy.  Use a keep probability of `1.0` to calculate the loss and validation accuracy."
   ]
  },
  {
   "cell_type": "code",
   "execution_count": 14,
   "metadata": {
    "collapsed": false,
    "deletable": true,
    "editable": true
   },
   "outputs": [],
   "source": [
    "def print_stats(session, feature_batch, label_batch, cost, accuracy):\n",
    "    \"\"\"\n",
    "    Print information about loss and validation accuracy\n",
    "    : session: Current TensorFlow session\n",
    "    : feature_batch: Batch of Numpy image data\n",
    "    : label_batch: Batch of Numpy label data\n",
    "    : cost: TensorFlow cost function\n",
    "    : accuracy: TensorFlow accuracy function\n",
    "    \"\"\"\n",
    "    # TODO: Implement Function\n",
    "    loss = session.run(cost, feed_dict={x: feature_batch,\n",
    "                                        y: label_batch,\n",
    "                                        keep_prob: 1.0})\n",
    "    valid_acc = session.run(accuracy, feed_dict={x: valid_features,\n",
    "                                                 y: valid_labels, \n",
    "                                                 keep_prob: 1.0})\n",
    "\n",
    "    print('Loss:{:>10.4f} Accuracy:{:.6f}'.format(loss, valid_acc))"
   ]
  },
  {
   "cell_type": "markdown",
   "metadata": {
    "deletable": true,
    "editable": true
   },
   "source": [
    "### Hyperparameters\n",
    "Tune the following parameters:\n",
    "* Set `epochs` to the number of iterations until the network stops learning or start overfitting\n",
    "* Set `batch_size` to the highest number that your machine has memory for.  Most people set them to common sizes of memory:\n",
    " * 64\n",
    " * 128\n",
    " * 256\n",
    " * ...\n",
    "* Set `keep_probability` to the probability of keeping a node using dropout"
   ]
  },
  {
   "cell_type": "code",
   "execution_count": 15,
   "metadata": {
    "collapsed": true,
    "deletable": true,
    "editable": true
   },
   "outputs": [],
   "source": [
    "# TODO: Tune Parameters\n",
    "epochs = 35\n",
    "batch_size = 512\n",
    "keep_probability = 0.5"
   ]
  },
  {
   "cell_type": "markdown",
   "metadata": {
    "deletable": true,
    "editable": true
   },
   "source": [
    "### Train on a Single CIFAR-10 Batch\n",
    "Instead of training the neural network on all the CIFAR-10 batches of data, let's use a single batch. This should save time while you iterate on the model to get a better accuracy.  Once the final validation accuracy is 50% or greater, run the model on all the data in the next section."
   ]
  },
  {
   "cell_type": "code",
   "execution_count": 16,
   "metadata": {
    "collapsed": false,
    "deletable": true,
    "editable": true,
    "scrolled": true
   },
   "outputs": [
    {
     "name": "stdout",
     "output_type": "stream",
     "text": [
      "Checking the Training on a Single Batch...\n",
      "Epoch  1, CIFAR-10 Batch 1:  Loss:    2.1811 Accuracy:0.245000\n",
      "Epoch  2, CIFAR-10 Batch 1:  Loss:    2.1033 Accuracy:0.275800\n",
      "Epoch  3, CIFAR-10 Batch 1:  Loss:    1.9151 Accuracy:0.341000\n",
      "Epoch  4, CIFAR-10 Batch 1:  Loss:    1.8466 Accuracy:0.371200\n",
      "Epoch  5, CIFAR-10 Batch 1:  Loss:    1.7694 Accuracy:0.396200\n",
      "Epoch  6, CIFAR-10 Batch 1:  Loss:    1.6767 Accuracy:0.432400\n",
      "Epoch  7, CIFAR-10 Batch 1:  Loss:    1.5958 Accuracy:0.457000\n",
      "Epoch  8, CIFAR-10 Batch 1:  Loss:    1.5463 Accuracy:0.471600\n",
      "Epoch  9, CIFAR-10 Batch 1:  Loss:    1.4528 Accuracy:0.499200\n",
      "Epoch 10, CIFAR-10 Batch 1:  Loss:    1.3760 Accuracy:0.519600\n",
      "Epoch 11, CIFAR-10 Batch 1:  Loss:    1.3451 Accuracy:0.519200\n",
      "Epoch 12, CIFAR-10 Batch 1:  Loss:    1.3306 Accuracy:0.520200\n",
      "Epoch 13, CIFAR-10 Batch 1:  Loss:    1.2590 Accuracy:0.531000\n",
      "Epoch 14, CIFAR-10 Batch 1:  Loss:    1.2114 Accuracy:0.537800\n",
      "Epoch 15, CIFAR-10 Batch 1:  Loss:    1.1613 Accuracy:0.545200\n",
      "Epoch 16, CIFAR-10 Batch 1:  Loss:    1.1820 Accuracy:0.539600\n",
      "Epoch 17, CIFAR-10 Batch 1:  Loss:    1.1516 Accuracy:0.544000\n",
      "Epoch 18, CIFAR-10 Batch 1:  Loss:    1.0771 Accuracy:0.558400\n",
      "Epoch 19, CIFAR-10 Batch 1:  Loss:    1.0537 Accuracy:0.564000\n",
      "Epoch 20, CIFAR-10 Batch 1:  Loss:    1.0139 Accuracy:0.559400\n",
      "Epoch 21, CIFAR-10 Batch 1:  Loss:    1.0253 Accuracy:0.551800\n",
      "Epoch 22, CIFAR-10 Batch 1:  Loss:    0.9722 Accuracy:0.566400\n",
      "Epoch 23, CIFAR-10 Batch 1:  Loss:    0.8886 Accuracy:0.585600\n",
      "Epoch 24, CIFAR-10 Batch 1:  Loss:    0.8548 Accuracy:0.592600\n",
      "Epoch 25, CIFAR-10 Batch 1:  Loss:    0.8360 Accuracy:0.584800\n",
      "Epoch 26, CIFAR-10 Batch 1:  Loss:    0.8392 Accuracy:0.578400\n",
      "Epoch 27, CIFAR-10 Batch 1:  Loss:    0.8175 Accuracy:0.577600\n",
      "Epoch 28, CIFAR-10 Batch 1:  Loss:    0.7502 Accuracy:0.588800\n",
      "Epoch 29, CIFAR-10 Batch 1:  Loss:    0.7125 Accuracy:0.591800\n",
      "Epoch 30, CIFAR-10 Batch 1:  Loss:    0.7193 Accuracy:0.587200\n",
      "Epoch 31, CIFAR-10 Batch 1:  Loss:    0.6832 Accuracy:0.588200\n",
      "Epoch 32, CIFAR-10 Batch 1:  Loss:    0.6877 Accuracy:0.586000\n",
      "Epoch 33, CIFAR-10 Batch 1:  Loss:    0.6245 Accuracy:0.592400\n",
      "Epoch 34, CIFAR-10 Batch 1:  Loss:    0.6396 Accuracy:0.590600\n",
      "Epoch 35, CIFAR-10 Batch 1:  Loss:    0.6287 Accuracy:0.589200\n"
     ]
    }
   ],
   "source": [
    "\"\"\"\n",
    "DON'T MODIFY ANYTHING IN THIS CELL\n",
    "\"\"\"\n",
    "print('Checking the Training on a Single Batch...')\n",
    "with tf.Session() as sess:\n",
    "    # Initializing the variables\n",
    "    sess.run(tf.global_variables_initializer())\n",
    "    \n",
    "    # Training cycle\n",
    "    for epoch in range(epochs):\n",
    "        batch_i = 1\n",
    "        for batch_features, batch_labels in helper.load_preprocess_training_batch(batch_i, batch_size):\n",
    "            train_neural_network(sess, optimizer, keep_probability, batch_features, batch_labels)\n",
    "        print('Epoch {:>2}, CIFAR-10 Batch {}:  '.format(epoch + 1, batch_i), end='')\n",
    "        print_stats(sess, batch_features, batch_labels, cost, accuracy)"
   ]
  },
  {
   "cell_type": "markdown",
   "metadata": {
    "deletable": true,
    "editable": true
   },
   "source": [
    "### Fully Train the Model\n",
    "Now that you got a good accuracy with a single CIFAR-10 batch, try it with all five batches."
   ]
  },
  {
   "cell_type": "code",
   "execution_count": 17,
   "metadata": {
    "collapsed": false,
    "deletable": true,
    "editable": true
   },
   "outputs": [
    {
     "name": "stdout",
     "output_type": "stream",
     "text": [
      "Training...\n",
      "Epoch  1, CIFAR-10 Batch 1:  Loss:    2.2385 Accuracy:0.194600\n",
      "Epoch  1, CIFAR-10 Batch 2:  Loss:    2.1262 Accuracy:0.264400\n",
      "Epoch  1, CIFAR-10 Batch 3:  Loss:    2.0193 Accuracy:0.294800\n",
      "Epoch  1, CIFAR-10 Batch 4:  Loss:    1.9276 Accuracy:0.334600\n",
      "Epoch  1, CIFAR-10 Batch 5:  Loss:    1.9055 Accuracy:0.341800\n",
      "Epoch  2, CIFAR-10 Batch 1:  Loss:    1.8575 Accuracy:0.382200\n",
      "Epoch  2, CIFAR-10 Batch 2:  Loss:    1.7503 Accuracy:0.413000\n",
      "Epoch  2, CIFAR-10 Batch 3:  Loss:    1.6543 Accuracy:0.395200\n",
      "Epoch  2, CIFAR-10 Batch 4:  Loss:    1.6185 Accuracy:0.436200\n",
      "Epoch  2, CIFAR-10 Batch 5:  Loss:    1.6738 Accuracy:0.401000\n",
      "Epoch  3, CIFAR-10 Batch 1:  Loss:    1.6809 Accuracy:0.459200\n",
      "Epoch  3, CIFAR-10 Batch 2:  Loss:    1.6111 Accuracy:0.438600\n",
      "Epoch  3, CIFAR-10 Batch 3:  Loss:    1.4543 Accuracy:0.469800\n",
      "Epoch  3, CIFAR-10 Batch 4:  Loss:    1.4554 Accuracy:0.482600\n",
      "Epoch  3, CIFAR-10 Batch 5:  Loss:    1.4535 Accuracy:0.488600\n",
      "Epoch  4, CIFAR-10 Batch 1:  Loss:    1.4885 Accuracy:0.510800\n",
      "Epoch  4, CIFAR-10 Batch 2:  Loss:    1.4568 Accuracy:0.499000\n",
      "Epoch  4, CIFAR-10 Batch 3:  Loss:    1.3169 Accuracy:0.520800\n",
      "Epoch  4, CIFAR-10 Batch 4:  Loss:    1.3444 Accuracy:0.510400\n",
      "Epoch  4, CIFAR-10 Batch 5:  Loss:    1.3505 Accuracy:0.515200\n",
      "Epoch  5, CIFAR-10 Batch 1:  Loss:    1.3946 Accuracy:0.541400\n",
      "Epoch  5, CIFAR-10 Batch 2:  Loss:    1.3011 Accuracy:0.551000\n",
      "Epoch  5, CIFAR-10 Batch 3:  Loss:    1.2559 Accuracy:0.527800\n",
      "Epoch  5, CIFAR-10 Batch 4:  Loss:    1.2496 Accuracy:0.533000\n",
      "Epoch  5, CIFAR-10 Batch 5:  Loss:    1.2789 Accuracy:0.534800\n",
      "Epoch  6, CIFAR-10 Batch 1:  Loss:    1.3342 Accuracy:0.559400\n",
      "Epoch  6, CIFAR-10 Batch 2:  Loss:    1.2244 Accuracy:0.568000\n",
      "Epoch  6, CIFAR-10 Batch 3:  Loss:    1.2068 Accuracy:0.531000\n",
      "Epoch  6, CIFAR-10 Batch 4:  Loss:    1.1930 Accuracy:0.549600\n",
      "Epoch  6, CIFAR-10 Batch 5:  Loss:    1.2186 Accuracy:0.549600\n",
      "Epoch  7, CIFAR-10 Batch 1:  Loss:    1.2825 Accuracy:0.575400\n",
      "Epoch  7, CIFAR-10 Batch 2:  Loss:    1.1736 Accuracy:0.578400\n",
      "Epoch  7, CIFAR-10 Batch 3:  Loss:    1.0877 Accuracy:0.568600\n",
      "Epoch  7, CIFAR-10 Batch 4:  Loss:    1.1234 Accuracy:0.573000\n",
      "Epoch  7, CIFAR-10 Batch 5:  Loss:    1.1484 Accuracy:0.563400\n",
      "Epoch  8, CIFAR-10 Batch 1:  Loss:    1.2424 Accuracy:0.585000\n",
      "Epoch  8, CIFAR-10 Batch 2:  Loss:    1.1124 Accuracy:0.593400\n",
      "Epoch  8, CIFAR-10 Batch 3:  Loss:    1.0538 Accuracy:0.579600\n",
      "Epoch  8, CIFAR-10 Batch 4:  Loss:    1.0897 Accuracy:0.574000\n",
      "Epoch  8, CIFAR-10 Batch 5:  Loss:    1.1021 Accuracy:0.567600\n",
      "Epoch  9, CIFAR-10 Batch 1:  Loss:    1.1599 Accuracy:0.601600\n",
      "Epoch  9, CIFAR-10 Batch 2:  Loss:    1.0870 Accuracy:0.594400\n",
      "Epoch  9, CIFAR-10 Batch 3:  Loss:    1.0043 Accuracy:0.599800\n",
      "Epoch  9, CIFAR-10 Batch 4:  Loss:    1.0585 Accuracy:0.579000\n",
      "Epoch  9, CIFAR-10 Batch 5:  Loss:    1.0731 Accuracy:0.575800\n",
      "Epoch 10, CIFAR-10 Batch 1:  Loss:    1.1911 Accuracy:0.591600\n",
      "Epoch 10, CIFAR-10 Batch 2:  Loss:    1.0721 Accuracy:0.601400\n",
      "Epoch 10, CIFAR-10 Batch 3:  Loss:    1.0028 Accuracy:0.585200\n",
      "Epoch 10, CIFAR-10 Batch 4:  Loss:    1.0139 Accuracy:0.594200\n",
      "Epoch 10, CIFAR-10 Batch 5:  Loss:    1.0227 Accuracy:0.587400\n",
      "Epoch 11, CIFAR-10 Batch 1:  Loss:    1.1337 Accuracy:0.602200\n",
      "Epoch 11, CIFAR-10 Batch 2:  Loss:    1.0285 Accuracy:0.597200\n",
      "Epoch 11, CIFAR-10 Batch 3:  Loss:    0.9621 Accuracy:0.602000\n",
      "Epoch 11, CIFAR-10 Batch 4:  Loss:    0.9913 Accuracy:0.596800\n",
      "Epoch 11, CIFAR-10 Batch 5:  Loss:    0.9815 Accuracy:0.598400\n",
      "Epoch 12, CIFAR-10 Batch 1:  Loss:    1.0958 Accuracy:0.607600\n",
      "Epoch 12, CIFAR-10 Batch 2:  Loss:    0.9955 Accuracy:0.609800\n",
      "Epoch 12, CIFAR-10 Batch 3:  Loss:    0.9523 Accuracy:0.601200\n",
      "Epoch 12, CIFAR-10 Batch 4:  Loss:    0.9540 Accuracy:0.610800\n",
      "Epoch 12, CIFAR-10 Batch 5:  Loss:    0.9778 Accuracy:0.600000\n",
      "Epoch 13, CIFAR-10 Batch 1:  Loss:    1.0864 Accuracy:0.610200\n",
      "Epoch 13, CIFAR-10 Batch 2:  Loss:    0.9663 Accuracy:0.609000\n",
      "Epoch 13, CIFAR-10 Batch 3:  Loss:    0.9445 Accuracy:0.603200\n",
      "Epoch 13, CIFAR-10 Batch 4:  Loss:    0.9344 Accuracy:0.608800\n",
      "Epoch 13, CIFAR-10 Batch 5:  Loss:    0.9739 Accuracy:0.593800\n",
      "Epoch 14, CIFAR-10 Batch 1:  Loss:    1.0965 Accuracy:0.610200\n",
      "Epoch 14, CIFAR-10 Batch 2:  Loss:    0.9549 Accuracy:0.609400\n",
      "Epoch 14, CIFAR-10 Batch 3:  Loss:    0.9246 Accuracy:0.612600\n",
      "Epoch 14, CIFAR-10 Batch 4:  Loss:    0.9156 Accuracy:0.618800\n",
      "Epoch 14, CIFAR-10 Batch 5:  Loss:    0.9502 Accuracy:0.602200\n",
      "Epoch 15, CIFAR-10 Batch 1:  Loss:    1.1110 Accuracy:0.598000\n",
      "Epoch 15, CIFAR-10 Batch 2:  Loss:    0.9391 Accuracy:0.618000\n",
      "Epoch 15, CIFAR-10 Batch 3:  Loss:    0.9038 Accuracy:0.608800\n",
      "Epoch 15, CIFAR-10 Batch 4:  Loss:    0.9201 Accuracy:0.608200\n",
      "Epoch 15, CIFAR-10 Batch 5:  Loss:    0.9602 Accuracy:0.592400\n",
      "Epoch 16, CIFAR-10 Batch 1:  Loss:    1.0702 Accuracy:0.603400\n",
      "Epoch 16, CIFAR-10 Batch 2:  Loss:    0.9265 Accuracy:0.611400\n",
      "Epoch 16, CIFAR-10 Batch 3:  Loss:    0.9354 Accuracy:0.605000\n",
      "Epoch 16, CIFAR-10 Batch 4:  Loss:    0.9451 Accuracy:0.602200\n",
      "Epoch 16, CIFAR-10 Batch 5:  Loss:    0.9235 Accuracy:0.606800\n",
      "Epoch 17, CIFAR-10 Batch 1:  Loss:    1.0328 Accuracy:0.611400\n",
      "Epoch 17, CIFAR-10 Batch 2:  Loss:    0.9127 Accuracy:0.614000\n",
      "Epoch 17, CIFAR-10 Batch 3:  Loss:    0.9104 Accuracy:0.601000\n",
      "Epoch 17, CIFAR-10 Batch 4:  Loss:    0.9318 Accuracy:0.604400\n",
      "Epoch 17, CIFAR-10 Batch 5:  Loss:    0.9341 Accuracy:0.601800\n",
      "Epoch 18, CIFAR-10 Batch 1:  Loss:    1.0885 Accuracy:0.596200\n",
      "Epoch 18, CIFAR-10 Batch 2:  Loss:    0.8958 Accuracy:0.621600\n",
      "Epoch 18, CIFAR-10 Batch 3:  Loss:    0.8743 Accuracy:0.620000\n",
      "Epoch 18, CIFAR-10 Batch 4:  Loss:    0.8830 Accuracy:0.612600\n",
      "Epoch 18, CIFAR-10 Batch 5:  Loss:    0.9093 Accuracy:0.602400\n",
      "Epoch 19, CIFAR-10 Batch 1:  Loss:    1.0767 Accuracy:0.599000\n",
      "Epoch 19, CIFAR-10 Batch 2:  Loss:    0.8863 Accuracy:0.621000\n",
      "Epoch 19, CIFAR-10 Batch 3:  Loss:    0.8941 Accuracy:0.609400\n",
      "Epoch 19, CIFAR-10 Batch 4:  Loss:    0.8443 Accuracy:0.624600\n",
      "Epoch 19, CIFAR-10 Batch 5:  Loss:    0.9044 Accuracy:0.595800\n",
      "Epoch 20, CIFAR-10 Batch 1:  Loss:    1.0638 Accuracy:0.608200\n",
      "Epoch 20, CIFAR-10 Batch 2:  Loss:    0.8734 Accuracy:0.621800\n",
      "Epoch 20, CIFAR-10 Batch 3:  Loss:    0.8827 Accuracy:0.617000\n",
      "Epoch 20, CIFAR-10 Batch 4:  Loss:    0.8311 Accuracy:0.631000\n",
      "Epoch 20, CIFAR-10 Batch 5:  Loss:    0.8854 Accuracy:0.604200\n",
      "Epoch 21, CIFAR-10 Batch 1:  Loss:    0.9394 Accuracy:0.626800\n",
      "Epoch 21, CIFAR-10 Batch 2:  Loss:    0.8795 Accuracy:0.615600\n",
      "Epoch 21, CIFAR-10 Batch 3:  Loss:    0.8825 Accuracy:0.605200\n",
      "Epoch 21, CIFAR-10 Batch 4:  Loss:    0.8020 Accuracy:0.635800\n",
      "Epoch 21, CIFAR-10 Batch 5:  Loss:    0.8596 Accuracy:0.609600\n",
      "Epoch 22, CIFAR-10 Batch 1:  Loss:    0.9578 Accuracy:0.622800\n",
      "Epoch 22, CIFAR-10 Batch 2:  Loss:    0.8846 Accuracy:0.604600\n",
      "Epoch 22, CIFAR-10 Batch 3:  Loss:    0.8207 Accuracy:0.630400\n",
      "Epoch 22, CIFAR-10 Batch 4:  Loss:    0.7734 Accuracy:0.638200\n",
      "Epoch 22, CIFAR-10 Batch 5:  Loss:    0.8249 Accuracy:0.625000\n",
      "Epoch 23, CIFAR-10 Batch 1:  Loss:    0.8988 Accuracy:0.638000\n",
      "Epoch 23, CIFAR-10 Batch 2:  Loss:    0.9295 Accuracy:0.595600\n",
      "Epoch 23, CIFAR-10 Batch 3:  Loss:    0.7887 Accuracy:0.647600\n",
      "Epoch 23, CIFAR-10 Batch 4:  Loss:    0.7695 Accuracy:0.638800\n",
      "Epoch 23, CIFAR-10 Batch 5:  Loss:    0.7831 Accuracy:0.623000\n",
      "Epoch 24, CIFAR-10 Batch 1:  Loss:    0.9348 Accuracy:0.621800\n",
      "Epoch 24, CIFAR-10 Batch 2:  Loss:    0.9517 Accuracy:0.576800\n",
      "Epoch 24, CIFAR-10 Batch 3:  Loss:    0.7864 Accuracy:0.652800\n",
      "Epoch 24, CIFAR-10 Batch 4:  Loss:    0.7374 Accuracy:0.653200\n",
      "Epoch 24, CIFAR-10 Batch 5:  Loss:    0.8170 Accuracy:0.613000\n",
      "Epoch 25, CIFAR-10 Batch 1:  Loss:    0.9270 Accuracy:0.614000\n",
      "Epoch 25, CIFAR-10 Batch 2:  Loss:    0.8407 Accuracy:0.609200\n",
      "Epoch 25, CIFAR-10 Batch 3:  Loss:    0.7798 Accuracy:0.633800\n",
      "Epoch 25, CIFAR-10 Batch 4:  Loss:    0.7666 Accuracy:0.632400\n",
      "Epoch 25, CIFAR-10 Batch 5:  Loss:    0.7883 Accuracy:0.625200\n",
      "Epoch 26, CIFAR-10 Batch 1:  Loss:    0.8957 Accuracy:0.616400\n",
      "Epoch 26, CIFAR-10 Batch 2:  Loss:    0.9439 Accuracy:0.578000\n",
      "Epoch 26, CIFAR-10 Batch 3:  Loss:    0.7508 Accuracy:0.645400\n",
      "Epoch 26, CIFAR-10 Batch 4:  Loss:    0.7385 Accuracy:0.646800\n",
      "Epoch 26, CIFAR-10 Batch 5:  Loss:    0.7749 Accuracy:0.618800\n",
      "Epoch 27, CIFAR-10 Batch 1:  Loss:    0.8933 Accuracy:0.615400\n",
      "Epoch 27, CIFAR-10 Batch 2:  Loss:    0.9193 Accuracy:0.586000\n",
      "Epoch 27, CIFAR-10 Batch 3:  Loss:    0.7456 Accuracy:0.636800\n",
      "Epoch 27, CIFAR-10 Batch 4:  Loss:    0.7513 Accuracy:0.642000\n",
      "Epoch 27, CIFAR-10 Batch 5:  Loss:    0.8349 Accuracy:0.601800\n",
      "Epoch 28, CIFAR-10 Batch 1:  Loss:    0.8978 Accuracy:0.612800\n",
      "Epoch 28, CIFAR-10 Batch 2:  Loss:    0.8876 Accuracy:0.590400\n",
      "Epoch 28, CIFAR-10 Batch 3:  Loss:    0.7163 Accuracy:0.649000\n",
      "Epoch 28, CIFAR-10 Batch 4:  Loss:    0.7327 Accuracy:0.638600\n",
      "Epoch 28, CIFAR-10 Batch 5:  Loss:    0.7946 Accuracy:0.599000\n",
      "Epoch 29, CIFAR-10 Batch 1:  Loss:    0.8714 Accuracy:0.625200\n",
      "Epoch 29, CIFAR-10 Batch 2:  Loss:    0.8665 Accuracy:0.597200\n",
      "Epoch 29, CIFAR-10 Batch 3:  Loss:    0.7202 Accuracy:0.643600\n",
      "Epoch 29, CIFAR-10 Batch 4:  Loss:    0.7316 Accuracy:0.642200\n",
      "Epoch 29, CIFAR-10 Batch 5:  Loss:    0.7574 Accuracy:0.616400\n",
      "Epoch 30, CIFAR-10 Batch 1:  Loss:    0.8589 Accuracy:0.621000\n",
      "Epoch 30, CIFAR-10 Batch 2:  Loss:    0.8732 Accuracy:0.596600\n",
      "Epoch 30, CIFAR-10 Batch 3:  Loss:    0.6865 Accuracy:0.657400\n",
      "Epoch 30, CIFAR-10 Batch 4:  Loss:    0.7464 Accuracy:0.637800\n",
      "Epoch 30, CIFAR-10 Batch 5:  Loss:    0.7896 Accuracy:0.602000\n",
      "Epoch 31, CIFAR-10 Batch 1:  Loss:    0.8791 Accuracy:0.608400\n",
      "Epoch 31, CIFAR-10 Batch 2:  Loss:    0.8387 Accuracy:0.596800\n",
      "Epoch 31, CIFAR-10 Batch 3:  Loss:    0.6903 Accuracy:0.645400\n",
      "Epoch 31, CIFAR-10 Batch 4:  Loss:    0.7270 Accuracy:0.637400\n",
      "Epoch 31, CIFAR-10 Batch 5:  Loss:    0.7520 Accuracy:0.610400\n",
      "Epoch 32, CIFAR-10 Batch 1:  Loss:    0.8661 Accuracy:0.617400\n",
      "Epoch 32, CIFAR-10 Batch 2:  Loss:    0.8429 Accuracy:0.601200\n",
      "Epoch 32, CIFAR-10 Batch 3:  Loss:    0.6824 Accuracy:0.639400\n",
      "Epoch 32, CIFAR-10 Batch 4:  Loss:    0.7049 Accuracy:0.639400\n",
      "Epoch 32, CIFAR-10 Batch 5:  Loss:    0.7658 Accuracy:0.604200\n",
      "Epoch 33, CIFAR-10 Batch 1:  Loss:    0.9069 Accuracy:0.603000\n",
      "Epoch 33, CIFAR-10 Batch 2:  Loss:    0.8052 Accuracy:0.599800\n",
      "Epoch 33, CIFAR-10 Batch 3:  Loss:    0.6895 Accuracy:0.634000\n",
      "Epoch 33, CIFAR-10 Batch 4:  Loss:    0.7348 Accuracy:0.639200\n",
      "Epoch 33, CIFAR-10 Batch 5:  Loss:    0.7903 Accuracy:0.594600\n",
      "Epoch 34, CIFAR-10 Batch 1:  Loss:    0.7903 Accuracy:0.633400\n",
      "Epoch 34, CIFAR-10 Batch 2:  Loss:    0.8088 Accuracy:0.602200\n",
      "Epoch 34, CIFAR-10 Batch 3:  Loss:    0.6652 Accuracy:0.643800\n",
      "Epoch 34, CIFAR-10 Batch 4:  Loss:    0.6972 Accuracy:0.634200\n",
      "Epoch 34, CIFAR-10 Batch 5:  Loss:    0.7267 Accuracy:0.609000\n",
      "Epoch 35, CIFAR-10 Batch 1:  Loss:    0.8373 Accuracy:0.618200\n",
      "Epoch 35, CIFAR-10 Batch 2:  Loss:    0.8072 Accuracy:0.595200\n",
      "Epoch 35, CIFAR-10 Batch 3:  Loss:    0.6868 Accuracy:0.630600\n",
      "Epoch 35, CIFAR-10 Batch 4:  Loss:    0.6899 Accuracy:0.640200\n",
      "Epoch 35, CIFAR-10 Batch 5:  Loss:    0.7554 Accuracy:0.599000\n"
     ]
    }
   ],
   "source": [
    "\"\"\"\n",
    "DON'T MODIFY ANYTHING IN THIS CELL\n",
    "\"\"\"\n",
    "save_model_path = './image_classification'\n",
    "\n",
    "print('Training...')\n",
    "with tf.Session() as sess:\n",
    "    # Initializing the variables\n",
    "    sess.run(tf.global_variables_initializer())\n",
    "    \n",
    "    # Training cycle\n",
    "    for epoch in range(epochs):\n",
    "        # Loop over all batches\n",
    "        n_batches = 5\n",
    "        for batch_i in range(1, n_batches + 1):\n",
    "            for batch_features, batch_labels in helper.load_preprocess_training_batch(batch_i, batch_size):\n",
    "                train_neural_network(sess, optimizer, keep_probability, batch_features, batch_labels)\n",
    "            print('Epoch {:>2}, CIFAR-10 Batch {}:  '.format(epoch + 1, batch_i), end='')\n",
    "            print_stats(sess, batch_features, batch_labels, cost, accuracy)\n",
    "            \n",
    "    # Save Model\n",
    "    saver = tf.train.Saver()\n",
    "    save_path = saver.save(sess, save_model_path)"
   ]
  },
  {
   "cell_type": "markdown",
   "metadata": {
    "deletable": true,
    "editable": true
   },
   "source": [
    "# Checkpoint\n",
    "The model has been saved to disk.\n",
    "## Test Model\n",
    "Test your model against the test dataset.  This will be your final accuracy. You should have an accuracy greater than 50%. If you don't, keep tweaking the model architecture and parameters."
   ]
  },
  {
   "cell_type": "code",
   "execution_count": 18,
   "metadata": {
    "collapsed": false,
    "deletable": true,
    "editable": true
   },
   "outputs": [
    {
     "name": "stdout",
     "output_type": "stream",
     "text": [
      "Testing Accuracy: 0.5988223820924758\n",
      "\n"
     ]
    },
    {
     "data": {
      "image/png": "[encoded data removed]",
      "text/plain": [
       "<matplotlib.figure.Figure at 0x7f6c46e64898>"
      ]
     },
     "metadata": {
      "image/png": {
       "height": 319,
       "width": 355
      }
     },
     "output_type": "display_data"
    }
   ],
   "source": [
    "\"\"\"\n",
    "DON'T MODIFY ANYTHING IN THIS CELL\n",
    "\"\"\"\n",
    "%matplotlib inline\n",
    "%config InlineBackend.figure_format = 'retina'\n",
    "\n",
    "import tensorflow as tf\n",
    "import pickle\n",
    "import helper\n",
    "import random\n",
    "\n",
    "# Set batch size if not already set\n",
    "try:\n",
    "    if batch_size:\n",
    "        pass\n",
    "except NameError:\n",
    "    batch_size = 64\n",
    "\n",
    "save_model_path = './image_classification'\n",
    "n_samples = 4\n",
    "top_n_predictions = 3\n",
    "\n",
    "def test_model():\n",
    "    \"\"\"\n",
    "    Test the saved model against the test dataset\n",
    "    \"\"\"\n",
    "\n",
    "    test_features, test_labels = pickle.load(open('preprocess_training.p', mode='rb'))\n",
    "    loaded_graph = tf.Graph()\n",
    "\n",
    "    with tf.Session(graph=loaded_graph) as sess:\n",
    "        # Load model\n",
    "        loader = tf.train.import_meta_graph(save_model_path + '.meta')\n",
    "        loader.restore(sess, save_model_path)\n",
    "\n",
    "        # Get Tensors from loaded model\n",
    "        loaded_x = loaded_graph.get_tensor_by_name('x:0')\n",
    "        loaded_y = loaded_graph.get_tensor_by_name('y:0')\n",
    "        loaded_keep_prob = loaded_graph.get_tensor_by_name('keep_prob:0')\n",
    "        loaded_logits = loaded_graph.get_tensor_by_name('logits:0')\n",
    "        loaded_acc = loaded_graph.get_tensor_by_name('accuracy:0')\n",
    "        \n",
    "        # Get accuracy in batches for memory limitations\n",
    "        test_batch_acc_total = 0\n",
    "        test_batch_count = 0\n",
    "        \n",
    "        for train_feature_batch, train_label_batch in helper.batch_features_labels(test_features, test_labels, batch_size):\n",
    "            test_batch_acc_total += sess.run(\n",
    "                loaded_acc,\n",
    "                feed_dict={loaded_x: train_feature_batch, loaded_y: train_label_batch, loaded_keep_prob: 1.0})\n",
    "            test_batch_count += 1\n",
    "\n",
    "        print('Testing Accuracy: {}\\n'.format(test_batch_acc_total/test_batch_count))\n",
    "\n",
    "        # Print Random Samples\n",
    "        random_test_features, random_test_labels = tuple(zip(*random.sample(list(zip(test_features, test_labels)), n_samples)))\n",
    "        random_test_predictions = sess.run(\n",
    "            tf.nn.top_k(tf.nn.softmax(loaded_logits), top_n_predictions),\n",
    "            feed_dict={loaded_x: random_test_features, loaded_y: random_test_labels, loaded_keep_prob: 1.0})\n",
    "        helper.display_image_predictions(random_test_features, random_test_labels, random_test_predictions)\n",
    "\n",
    "\n",
    "test_model()"
   ]
  },
  {
   "cell_type": "markdown",
   "metadata": {
    "deletable": true,
    "editable": true
   },
   "source": [
    "## Why 50-80% Accuracy?\n",
    "You might be wondering why you can't get an accuracy any higher. First things first, 50% isn't bad for a simple CNN.  Pure guessing would get you 10% accuracy. However, you might notice people are getting scores [well above 80%](http://rodrigob.github.io/are_we_there_yet/build/classification_datasets_results.html#43494641522d3130).  That's because we haven't taught you all there is to know about neural networks. We still need to cover a few more techniques.\n",
    "## Submitting This Project\n",
    "When submitting this project, make sure to run all the cells before saving the notebook.  Save the notebook file as \"dlnd_image_classification.ipynb\" and save it as a HTML file under \"File\" -> \"Download as\".  Include the \"helper.py\" and \"problem_unittests.py\" files in your submission."
   ]
  }
 ],
 "metadata": {
  "kernelspec": {
   "display_name": "Python 3",
   "language": "python",
   "name": "python3"
  },
  "language_info": {
   "codemirror_mode": {
    "name": "ipython",
    "version": 3
   },
   "file_extension": ".py",
   "mimetype": "text/x-python",
   "name": "python",
   "nbconvert_exporter": "python",
   "pygments_lexer": "ipython3",
   "version": "3.5.2"
  },
  "widgets": {
   "state": {},
   "version": "1.1.2"
  }
 },
 "nbformat": 4,
 "nbformat_minor": 0
}

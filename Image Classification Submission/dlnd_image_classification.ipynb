{
 "cells": [
  {
   "cell_type": "markdown",
   "metadata": {
    "collapsed": true,
    "deletable": true,
    "editable": true
   },
   "source": [
    "# Image Classification\n",
    "In this project, you'll classify images from the [CIFAR-10 dataset](https://www.cs.toronto.edu/~kriz/cifar.html).  The dataset consists of airplanes, dogs, cats, and other objects. You'll preprocess the images, then train a convolutional neural network on all the samples. The images need to be normalized and the labels need to be one-hot encoded.  You'll get to apply what you learned and build a convolutional, max pooling, dropout, and fully connected layers.  At the end, you'll get to see your neural network's predictions on the sample images.\n",
    "## Get the Data\n",
    "Run the following cell to download the [CIFAR-10 dataset for python](https://www.cs.toronto.edu/~kriz/cifar-10-python.tar.gz)."
   ]
  },
  {
   "cell_type": "code",
   "execution_count": 1,
   "metadata": {
    "collapsed": false,
    "deletable": true,
    "editable": true
   },
   "outputs": [
    {
     "name": "stderr",
     "output_type": "stream",
     "text": [
      "CIFAR-10 Dataset: 171MB [00:19, 8.90MB/s]                              \n"
     ]
    },
    {
     "name": "stdout",
     "output_type": "stream",
     "text": [
      "All files found!\n"
     ]
    }
   ],
   "source": [
    "\"\"\"\n",
    "DON'T MODIFY ANYTHING IN THIS CELL THAT IS BELOW THIS LINE\n",
    "\"\"\"\n",
    "from urllib.request import urlretrieve\n",
    "from os.path import isfile, isdir\n",
    "from tqdm import tqdm\n",
    "import problem_unittests as tests\n",
    "import tarfile\n",
    "\n",
    "cifar10_dataset_folder_path = 'cifar-10-batches-py'\n",
    "\n",
    "class DLProgress(tqdm):\n",
    "    last_block = 0\n",
    "\n",
    "    def hook(self, block_num=1, block_size=1, total_size=None):\n",
    "        self.total = total_size\n",
    "        self.update((block_num - self.last_block) * block_size)\n",
    "        self.last_block = block_num\n",
    "\n",
    "if not isfile('cifar-10-python.tar.gz'):\n",
    "    with DLProgress(unit='B', unit_scale=True, miniters=1, desc='CIFAR-10 Dataset') as pbar:\n",
    "        urlretrieve(\n",
    "            'https://www.cs.toronto.edu/~kriz/cifar-10-python.tar.gz',\n",
    "            'cifar-10-python.tar.gz',\n",
    "            pbar.hook)\n",
    "\n",
    "if not isdir(cifar10_dataset_folder_path):\n",
    "    with tarfile.open('cifar-10-python.tar.gz') as tar:\n",
    "        tar.extractall()\n",
    "        tar.close()\n",
    "\n",
    "\n",
    "tests.test_folder_path(cifar10_dataset_folder_path)"
   ]
  },
  {
   "cell_type": "markdown",
   "metadata": {
    "deletable": true,
    "editable": true
   },
   "source": [
    "## Explore the Data\n",
    "The dataset is broken into batches to prevent your machine from running out of memory.  The CIFAR-10 dataset consists of 5 batches, named `data_batch_1`, `data_batch_2`, etc.. Each batch contains the labels and images that are one of the following:\n",
    "* airplane\n",
    "* automobile\n",
    "* bird\n",
    "* cat\n",
    "* deer\n",
    "* dog\n",
    "* frog\n",
    "* horse\n",
    "* ship\n",
    "* truck\n",
    "\n",
    "Understanding a dataset is part of making predictions on the data.  Play around with the code cell below by changing the `batch_id` and `sample_id`. The `batch_id` is the id for a batch (1-5). The `sample_id` is the id for a image and label pair in the batch.\n",
    "\n",
    "Ask yourself \"What are all possible labels?\", \"What is the range of values for the image data?\", \"Are the labels in order or random?\".  Answers to questions like these will help you preprocess the data and end up with better predictions."
   ]
  },
  {
   "cell_type": "code",
   "execution_count": 2,
   "metadata": {
    "collapsed": false,
    "deletable": true,
    "editable": true
   },
   "outputs": [
    {
     "name": "stdout",
     "output_type": "stream",
     "text": [
      "\n",
      "Stats of batch 1:\n",
      "Samples: 10000\n",
      "Label Counts: {0: 1005, 1: 974, 2: 1032, 3: 1016, 4: 999, 5: 937, 6: 1030, 7: 1001, 8: 1025, 9: 981}\n",
      "First 20 Labels: [6, 9, 9, 4, 1, 1, 2, 7, 8, 3, 4, 7, 7, 2, 9, 9, 9, 3, 2, 6]\n",
      "\n",
      "Example of Image 5:\n",
      "Image - Min Value: 0 Max Value: 252\n",
      "Image - Shape: (32, 32, 3)\n",
      "Label - Label Id: 1 Name: automobile\n"
     ]
    },
    {
     "data": {
      "image/png": "[encoded data removed]",
      "text/plain": [
       "<matplotlib.figure.Figure at 0x7f0f850a8a58>"
      ]
     },
     "metadata": {
      "image/png": {
       "height": 250,
       "width": 253
      }
     },
     "output_type": "display_data"
    }
   ],
   "source": [
    "%matplotlib inline\n",
    "%config InlineBackend.figure_format = 'retina'\n",
    "\n",
    "import helper\n",
    "import numpy as np\n",
    "\n",
    "# Explore the dataset\n",
    "batch_id = 1\n",
    "sample_id = 5\n",
    "helper.display_stats(cifar10_dataset_folder_path, batch_id, sample_id)"
   ]
  },
  {
   "cell_type": "markdown",
   "metadata": {
    "deletable": true,
    "editable": true
   },
   "source": [
    "## Implement Preprocess Functions\n",
    "### Normalize\n",
    "In the cell below, implement the `normalize` function to take in image data, `x`, and return it as a normalized Numpy array. The values should be in the range of 0 to 1, inclusive.  The return object should be the same shape as `x`."
   ]
  },
  {
   "cell_type": "code",
   "execution_count": 3,
   "metadata": {
    "collapsed": false,
    "deletable": true,
    "editable": true
   },
   "outputs": [
    {
     "name": "stdout",
     "output_type": "stream",
     "text": [
      "Tests Passed\n"
     ]
    }
   ],
   "source": [
    "def normalize(x):\n",
    "    \"\"\"\n",
    "    Normalize a list of sample image data in the range of 0 to 1\n",
    "    : x: List of image data.  The image shape is (32, 32, 3)\n",
    "    : return: Numpy array of normalize data\n",
    "    \"\"\"\n",
    "    # TODO: Implement Function\n",
    "    return x / 255\n",
    "\n",
    "\n",
    "\n",
    "\"\"\"\n",
    "DON'T MODIFY ANYTHING IN THIS CELL THAT IS BELOW THIS LINE\n",
    "\"\"\"\n",
    "tests.test_normalize(normalize)"
   ]
  },
  {
   "cell_type": "markdown",
   "metadata": {
    "deletable": true,
    "editable": true
   },
   "source": [
    "### One-hot encode\n",
    "Just like the previous code cell, you'll be implementing a function for preprocessing.  This time, you'll implement the `one_hot_encode` function. The input, `x`, are a list of labels.  Implement the function to return the list of labels as One-Hot encoded Numpy array.  The possible values for labels are 0 to 9. The one-hot encoding function should return the same encoding for each value between each call to `one_hot_encode`.  Make sure to save the map of encodings outside the function.\n",
    "\n",
    "Hint: Don't reinvent the wheel."
   ]
  },
  {
   "cell_type": "code",
   "execution_count": 4,
   "metadata": {
    "collapsed": false,
    "deletable": true,
    "editable": true
   },
   "outputs": [
    {
     "name": "stdout",
     "output_type": "stream",
     "text": [
      "Tests Passed\n"
     ]
    }
   ],
   "source": [
    "from sklearn import preprocessing\n",
    "lb = preprocessing.LabelBinarizer()\n",
    "lb.fit([0,1,2,3,4,5,6,7,8,9])\n",
    "\n",
    "def one_hot_encode(x):\n",
    "    \"\"\"\n",
    "    One hot encode a list of sample labels. Return a one-hot encoded vector for each label.\n",
    "    : x: List of sample Labels\n",
    "    : return: Numpy array of one-hot encoded labels\n",
    "    \"\"\"\n",
    "    # TODO: Implement Function\n",
    "    return lb.transform(x)\n",
    "\n",
    "\n",
    "\"\"\"\n",
    "DON'T MODIFY ANYTHING IN THIS CELL THAT IS BELOW THIS LINE\n",
    "\"\"\"\n",
    "tests.test_one_hot_encode(one_hot_encode)"
   ]
  },
  {
   "cell_type": "markdown",
   "metadata": {
    "deletable": true,
    "editable": true
   },
   "source": [
    "### Randomize Data\n",
    "As you saw from exploring the data above, the order of the samples are randomized.  It doesn't hurt to randomize it again, but you don't need to for this dataset."
   ]
  },
  {
   "cell_type": "markdown",
   "metadata": {
    "deletable": true,
    "editable": true
   },
   "source": [
    "## Preprocess all the data and save it\n",
    "Running the code cell below will preprocess all the CIFAR-10 data and save it to file. The code below also uses 10% of the training data for validation."
   ]
  },
  {
   "cell_type": "code",
   "execution_count": 5,
   "metadata": {
    "collapsed": false,
    "deletable": true,
    "editable": true
   },
   "outputs": [],
   "source": [
    "\"\"\"\n",
    "DON'T MODIFY ANYTHING IN THIS CELL\n",
    "\"\"\"\n",
    "# Preprocess Training, Validation, and Testing Data\n",
    "helper.preprocess_and_save_data(cifar10_dataset_folder_path, normalize, one_hot_encode)"
   ]
  },
  {
   "cell_type": "markdown",
   "metadata": {
    "deletable": true,
    "editable": true
   },
   "source": [
    "# Check Point\n",
    "This is your first checkpoint.  If you ever decide to come back to this notebook or have to restart the notebook, you can start from here.  The preprocessed data has been saved to disk."
   ]
  },
  {
   "cell_type": "code",
   "execution_count": 6,
   "metadata": {
    "collapsed": true,
    "deletable": true,
    "editable": true
   },
   "outputs": [],
   "source": [
    "\"\"\"\n",
    "DON'T MODIFY ANYTHING IN THIS CELL\n",
    "\"\"\"\n",
    "import pickle\n",
    "import problem_unittests as tests\n",
    "import helper\n",
    "\n",
    "# Load the Preprocessed Validation data\n",
    "valid_features, valid_labels = pickle.load(open('preprocess_validation.p', mode='rb'))"
   ]
  },
  {
   "cell_type": "markdown",
   "metadata": {
    "deletable": true,
    "editable": true
   },
   "source": [
    "## Build the network\n",
    "For the neural network, you'll build each layer into a function.  Most of the code you've seen has been outside of functions. To test your code more thoroughly, we require that you put each layer in a function.  This allows us to give you better feedback and test for simple mistakes using our unittests before you submit your project.\n",
    "\n",
    ">**Note:** If you're finding it hard to dedicate enough time for this course each week, we've provided a small shortcut to this part of the project. In the next couple of problems, you'll have the option to use classes from the [TensorFlow Layers](https://www.tensorflow.org/api_docs/python/tf/layers) or [TensorFlow Layers (contrib)](https://www.tensorflow.org/api_guides/python/contrib.layers) packages to build each layer, except the layers you build in the \"Convolutional and Max Pooling Layer\" section.  TF Layers is similar to Keras's and TFLearn's abstraction to layers, so it's easy to pickup.\n",
    "\n",
    ">However, if you would like to get the most out of this course, try to solve all the problems _without_ using anything from the TF Layers packages. You **can** still use classes from other packages that happen to have the same name as ones you find in TF Layers! For example, instead of using the TF Layers version of the `conv2d` class, [tf.layers.conv2d](https://www.tensorflow.org/api_docs/python/tf/layers/conv2d), you would want to use the TF Neural Network version of `conv2d`, [tf.nn.conv2d](https://www.tensorflow.org/api_docs/python/tf/nn/conv2d). \n",
    "\n",
    "Let's begin!\n",
    "\n",
    "### Input\n",
    "The neural network needs to read the image data, one-hot encoded labels, and dropout keep probability. Implement the following functions\n",
    "* Implement `neural_net_image_input`\n",
    " * Return a [TF Placeholder](https://www.tensorflow.org/api_docs/python/tf/placeholder)\n",
    " * Set the shape using `image_shape` with batch size set to `None`.\n",
    " * Name the TensorFlow placeholder \"x\" using the TensorFlow `name` parameter in the [TF Placeholder](https://www.tensorflow.org/api_docs/python/tf/placeholder).\n",
    "* Implement `neural_net_label_input`\n",
    " * Return a [TF Placeholder](https://www.tensorflow.org/api_docs/python/tf/placeholder)\n",
    " * Set the shape using `n_classes` with batch size set to `None`.\n",
    " * Name the TensorFlow placeholder \"y\" using the TensorFlow `name` parameter in the [TF Placeholder](https://www.tensorflow.org/api_docs/python/tf/placeholder).\n",
    "* Implement `neural_net_keep_prob_input`\n",
    " * Return a [TF Placeholder](https://www.tensorflow.org/api_docs/python/tf/placeholder) for dropout keep probability.\n",
    " * Name the TensorFlow placeholder \"keep_prob\" using the TensorFlow `name` parameter in the [TF Placeholder](https://www.tensorflow.org/api_docs/python/tf/placeholder).\n",
    "\n",
    "These names will be used at the end of the project to load your saved model.\n",
    "\n",
    "Note: `None` for shapes in TensorFlow allow for a dynamic size."
   ]
  },
  {
   "cell_type": "code",
   "execution_count": 7,
   "metadata": {
    "collapsed": false,
    "deletable": true,
    "editable": true
   },
   "outputs": [
    {
     "name": "stdout",
     "output_type": "stream",
     "text": [
      "Image Input Tests Passed.\n",
      "Label Input Tests Passed.\n",
      "Keep Prob Tests Passed.\n"
     ]
    }
   ],
   "source": [
    "import tensorflow as tf\n",
    "\n",
    "def neural_net_image_input(image_shape):\n",
    "    \"\"\"\n",
    "    Return a Tensor for a batch of image input\n",
    "    : image_shape: Shape of the images\n",
    "    : return: Tensor for image input.\n",
    "    \"\"\"\n",
    "    # TODO: Implement Function\n",
    "    x = tf.placeholder(tf.float32, shape=[None, *image_shape], name='x')\n",
    "    return x\n",
    "\n",
    "def neural_net_label_input(n_classes):\n",
    "    \"\"\"\n",
    "    Return a Tensor for a batch of label input\n",
    "    : n_classes: Number of classes\n",
    "    : return: Tensor for label input.\n",
    "    \"\"\"\n",
    "    # TODO: Implement Function\n",
    "    y = tf.placeholder(tf.float32, shape=[None, n_classes], name='y')\n",
    "    return y\n",
    "\n",
    "def neural_net_keep_prob_input():\n",
    "    \"\"\"\n",
    "    Return a Tensor for keep probability\n",
    "    : return: Tensor for keep probability.\n",
    "    \"\"\"\n",
    "    # TODO: Implement Function\n",
    "    keep_prob = tf.placeholder(tf.float32, name='keep_prob')\n",
    "    return keep_prob\n",
    "\n",
    "\n",
    "\"\"\"\n",
    "DON'T MODIFY ANYTHING IN THIS CELL THAT IS BELOW THIS LINE\n",
    "\"\"\"\n",
    "tf.reset_default_graph()\n",
    "tests.test_nn_image_inputs(neural_net_image_input)\n",
    "tests.test_nn_label_inputs(neural_net_label_input)\n",
    "tests.test_nn_keep_prob_inputs(neural_net_keep_prob_input)"
   ]
  },
  {
   "cell_type": "markdown",
   "metadata": {
    "deletable": true,
    "editable": true
   },
   "source": [
    "### Convolution and Max Pooling Layer\n",
    "Convolution layers have a lot of success with images. For this code cell, you should implement the function `conv2d_maxpool` to apply convolution then max pooling:\n",
    "* Create the weight and bias using `conv_ksize`, `conv_num_outputs` and the shape of `x_tensor`.\n",
    "* Apply a convolution to `x_tensor` using weight and `conv_strides`.\n",
    " * We recommend you use same padding, but you're welcome to use any padding.\n",
    "* Add bias\n",
    "* Add a nonlinear activation to the convolution.\n",
    "* Apply Max Pooling using `pool_ksize` and `pool_strides`.\n",
    " * We recommend you use same padding, but you're welcome to use any padding.\n",
    "\n",
    "**Note:** You **can't** use [TensorFlow Layers](https://www.tensorflow.org/api_docs/python/tf/layers) or [TensorFlow Layers (contrib)](https://www.tensorflow.org/api_guides/python/contrib.layers) for **this** layer, but you can still use TensorFlow's [Neural Network](https://www.tensorflow.org/api_docs/python/tf/nn) package. You may still use the shortcut option for all the **other** layers."
   ]
  },
  {
   "cell_type": "code",
   "execution_count": 8,
   "metadata": {
    "collapsed": false,
    "deletable": true,
    "editable": true
   },
   "outputs": [
    {
     "name": "stdout",
     "output_type": "stream",
     "text": [
      "Tests Passed\n"
     ]
    }
   ],
   "source": [
    "def conv2d_maxpool(x_tensor, conv_num_outputs, conv_ksize, conv_strides, pool_ksize, pool_strides):\n",
    "    \"\"\"\n",
    "    Apply convolution then max pooling to x_tensor\n",
    "    :param x_tensor: TensorFlow Tensor\n",
    "    :param conv_num_outputs: Number of outputs for the convolutional layer\n",
    "    :param conv_ksize: kernal size 2-D Tuple for the convolutional layer\n",
    "    :param conv_strides: Stride 2-D Tuple for convolution\n",
    "    :param pool_ksize: kernal size 2-D Tuple for pool\n",
    "    :param pool_strides: Stride 2-D Tuple for pool\n",
    "    : return: A tensor that represents convolution and max pooling of x_tensor\n",
    "    \"\"\"\n",
    "    # TODO: Implement Function\n",
    "        # TODO: Implement Function\n",
    "    # Create weights \n",
    "    weights = tf.Variable(tf.truncated_normal(\n",
    "        shape=[conv_ksize[0], conv_ksize[1], x_tensor.get_shape().as_list()[3], conv_num_outputs], stddev=0.05))\n",
    "\n",
    "\n",
    "    # Create Bias \n",
    "    bias = tf.Variable(tf.zeros(conv_num_outputs))\n",
    "    \n",
    "    # Apply convolution \n",
    "    x_tensor = tf.nn.conv2d(input=x_tensor, \n",
    "                            filter=weights, \n",
    "                            strides=[1, conv_strides[0], conv_strides[1], 1], \n",
    "                            padding='SAME')\n",
    "    \n",
    "    # Add Bias \n",
    "    x_tensor = tf.nn.bias_add(x_tensor, bias)\n",
    "    \n",
    "    # Add nonlinearity \n",
    "    x_tensor = tf.nn.relu(x_tensor)\n",
    "    \n",
    "  # Apply maxpooling \n",
    "    x_tensor = tf.nn.max_pool(value=x_tensor,\n",
    "                              ksize=[1, pool_ksize[0], pool_ksize[1], 1],\n",
    "                              strides= [1, pool_strides[0], pool_strides[1], 1],\n",
    "                              padding='SAME')\n",
    "    \n",
    "    return x_tensor\n",
    "\n",
    "\n",
    "\n",
    "\"\"\"\n",
    "DON'T MODIFY ANYTHING IN THIS CELL THAT IS BELOW THIS LINE\n",
    "\"\"\"\n",
    "tests.test_con_pool(conv2d_maxpool)"
   ]
  },
  {
   "cell_type": "markdown",
   "metadata": {
    "deletable": true,
    "editable": true
   },
   "source": [
    "### Flatten Layer\n",
    "Implement the `flatten` function to change the dimension of `x_tensor` from a 4-D tensor to a 2-D tensor.  The output should be the shape (*Batch Size*, *Flattened Image Size*). Shortcut option: you can use classes from the [TensorFlow Layers](https://www.tensorflow.org/api_docs/python/tf/layers) or [TensorFlow Layers (contrib)](https://www.tensorflow.org/api_guides/python/contrib.layers) packages for this layer. For more of a challenge, only use other TensorFlow packages."
   ]
  },
  {
   "cell_type": "code",
   "execution_count": 9,
   "metadata": {
    "collapsed": false,
    "deletable": true,
    "editable": true
   },
   "outputs": [
    {
     "name": "stdout",
     "output_type": "stream",
     "text": [
      "Tests Passed\n"
     ]
    }
   ],
   "source": [
    "def flatten(x_tensor):\n",
    "    \"\"\"\n",
    "    Flatten x_tensor to (Batch Size, Flattened Image Size)\n",
    "    : x_tensor: A tensor of size (Batch Size, ...), where ... are the image dimensions.\n",
    "    : return: A tensor of size (Batch Size, Flattened Image Size).\n",
    "    \"\"\"\n",
    "    # TODO: Implement Function\n",
    "    return tf.contrib.layers.flatten(x_tensor)\n",
    "\n",
    "\n",
    "\"\"\"\n",
    "DON'T MODIFY ANYTHING IN THIS CELL THAT IS BELOW THIS LINE\n",
    "\"\"\"\n",
    "tests.test_flatten(flatten)"
   ]
  },
  {
   "cell_type": "markdown",
   "metadata": {
    "deletable": true,
    "editable": true
   },
   "source": [
    "### Fully-Connected Layer\n",
    "Implement the `fully_conn` function to apply a fully connected layer to `x_tensor` with the shape (*Batch Size*, *num_outputs*). Shortcut option: you can use classes from the [TensorFlow Layers](https://www.tensorflow.org/api_docs/python/tf/layers) or [TensorFlow Layers (contrib)](https://www.tensorflow.org/api_guides/python/contrib.layers) packages for this layer. For more of a challenge, only use other TensorFlow packages."
   ]
  },
  {
   "cell_type": "code",
   "execution_count": 10,
   "metadata": {
    "collapsed": false,
    "deletable": true,
    "editable": true
   },
   "outputs": [
    {
     "name": "stdout",
     "output_type": "stream",
     "text": [
      "Tests Passed\n"
     ]
    }
   ],
   "source": [
    "def fully_conn(x_tensor, num_outputs):\n",
    "    \"\"\"\n",
    "    Apply a fully connected layer to x_tensor using weight and bias\n",
    "    : x_tensor: A 2-D tensor where the first dimension is batch size.\n",
    "    : num_outputs: The number of output that the new tensor should be.\n",
    "    : return: A 2-D tensor where the second dimension is num_outputs.\n",
    "    \"\"\"\n",
    "    # TODO: Implement Function\n",
    "    return tf.contrib.layers.fully_connected(x_tensor, num_outputs)\n",
    "\n",
    "\n",
    "\"\"\"\n",
    "DON'T MODIFY ANYTHING IN THIS CELL THAT IS BELOW THIS LINE\n",
    "\"\"\"\n",
    "tests.test_fully_conn(fully_conn)"
   ]
  },
  {
   "cell_type": "markdown",
   "metadata": {
    "deletable": true,
    "editable": true
   },
   "source": [
    "### Output Layer\n",
    "Implement the `output` function to apply a fully connected layer to `x_tensor` with the shape (*Batch Size*, *num_outputs*). Shortcut option: you can use classes from the [TensorFlow Layers](https://www.tensorflow.org/api_docs/python/tf/layers) or [TensorFlow Layers (contrib)](https://www.tensorflow.org/api_guides/python/contrib.layers) packages for this layer. For more of a challenge, only use other TensorFlow packages.\n",
    "\n",
    "**Note:** Activation, softmax, or cross entropy should **not** be applied to this."
   ]
  },
  {
   "cell_type": "code",
   "execution_count": 11,
   "metadata": {
    "collapsed": false,
    "deletable": true,
    "editable": true
   },
   "outputs": [
    {
     "name": "stdout",
     "output_type": "stream",
     "text": [
      "Tests Passed\n"
     ]
    }
   ],
   "source": [
    "def output(x_tensor, num_outputs):\n",
    "    \"\"\"\n",
    "    Apply a output layer to x_tensor using weight and bias\n",
    "    : x_tensor: A 2-D tensor where the first dimension is batch size.\n",
    "    : num_outputs: The number of output that the new tensor should be.\n",
    "    : return: A 2-D tensor where the second dimension is num_outputs.\n",
    "    \"\"\"\n",
    "    # TODO: Implement Function\n",
    "    return tf.contrib.layers.fully_connected(x_tensor, num_outputs)\n",
    "\n",
    "\n",
    "\"\"\"\n",
    "DON'T MODIFY ANYTHING IN THIS CELL THAT IS BELOW THIS LINE\n",
    "\"\"\"\n",
    "tests.test_output(output)"
   ]
  },
  {
   "cell_type": "markdown",
   "metadata": {
    "deletable": true,
    "editable": true
   },
   "source": [
    "### Create Convolutional Model\n",
    "Implement the function `conv_net` to create a convolutional neural network model. The function takes in a batch of images, `x`, and outputs logits.  Use the layers you created above to create this model:\n",
    "\n",
    "* Apply 1, 2, or 3 Convolution and Max Pool layers\n",
    "* Apply a Flatten Layer\n",
    "* Apply 1, 2, or 3 Fully Connected Layers\n",
    "* Apply an Output Layer\n",
    "* Return the output\n",
    "* Apply [TensorFlow's Dropout](https://www.tensorflow.org/api_docs/python/tf/nn/dropout) to one or more layers in the model using `keep_prob`. "
   ]
  },
  {
   "cell_type": "code",
   "execution_count": 57,
   "metadata": {
    "collapsed": false,
    "deletable": true,
    "editable": true
   },
   "outputs": [
    {
     "name": "stdout",
     "output_type": "stream",
     "text": [
      "Neural Network Built!\n"
     ]
    }
   ],
   "source": [
    "def conv_net(x, keep_prob):\n",
    "    \"\"\"\n",
    "    Create a convolutional neural network model\n",
    "    : x: Placeholder tensor that holds image data.\n",
    "    : keep_prob: Placeholder tensor that hold dropout keep probability.\n",
    "    : return: Tensor that represents logits\n",
    "    \"\"\"\n",
    "    # TODO: Apply 1, 2, or 3 Convolution and Max Pool layers\n",
    "    #    Play around with different number of outputs, kernel size and stride\n",
    "    # Function Definition from Above:\n",
    "    #    conv2d_maxpool(x_tensor, conv_num_outputs, conv_ksize, conv_strides, pool_ksize, pool_strides)\n",
    "    x=conv2d_maxpool(x, 10, [2,2], [1,1], [2,2], [1,1])\n",
    "    x = tf.nn.dropout(x,keep_prob)\n",
    "    x=conv2d_maxpool(x, 24, [4,4], [1,1], [4,4], [1,1])\n",
    "    x = tf.nn.dropout(x,keep_prob)\n",
    "    # TODO: Apply a Flatten Layer\n",
    "    # Function Definition from Above:\n",
    "    #   flatten(x_tensor)\n",
    "    x=flatten(x)\n",
    "    \n",
    "\n",
    "    # TODO: Apply 1, 2, or 3 Fully Connected Layers\n",
    "    #    Play around with different number of outputs\n",
    "    # Function Definition from Above:\n",
    "    #   fully_conn(x_tensor, num_outputs)\n",
    "    x=fully_conn(x,128)\n",
    "    x=fully_conn(x,128)\n",
    "    x=fully_conn(x,64)\n",
    "    \n",
    "    \n",
    "    # TODO: Apply an Output Layer\n",
    "    #    Set this to the number of classes\n",
    "    # Function Definition from Above:\n",
    "    #   output(x_tensor, num_outputs)\n",
    "    x=output(x,10)\n",
    "    \n",
    "    # TODO: return output\n",
    "    return x\n",
    "\n",
    "\n",
    "\"\"\"\n",
    "DON'T MODIFY ANYTHING IN THIS CELL THAT IS BELOW THIS LINE\n",
    "\"\"\"\n",
    "\n",
    "##############################\n",
    "## Build the Neural Network ##\n",
    "##############################\n",
    "\n",
    "# Remove previous weights, bias, inputs, etc..\n",
    "tf.reset_default_graph()\n",
    "\n",
    "# Inputs\n",
    "x = neural_net_image_input((32, 32, 3))\n",
    "y = neural_net_label_input(10)\n",
    "keep_prob = neural_net_keep_prob_input()\n",
    "\n",
    "# Model\n",
    "logits = conv_net(x, keep_prob)\n",
    "\n",
    "# Name logits Tensor, so that is can be loaded from disk after training\n",
    "logits = tf.identity(logits, name='logits')\n",
    "\n",
    "# Loss and Optimizer\n",
    "cost = tf.reduce_mean(tf.nn.softmax_cross_entropy_with_logits(logits=logits, labels=y))\n",
    "optimizer = tf.train.AdamOptimizer().minimize(cost)\n",
    "\n",
    "# Accuracy\n",
    "correct_pred = tf.equal(tf.argmax(logits, 1), tf.argmax(y, 1))\n",
    "accuracy = tf.reduce_mean(tf.cast(correct_pred, tf.float32), name='accuracy')\n",
    "\n",
    "tests.test_conv_net(conv_net)"
   ]
  },
  {
   "cell_type": "markdown",
   "metadata": {
    "deletable": true,
    "editable": true
   },
   "source": [
    "## Train the Neural Network\n",
    "### Single Optimization\n",
    "Implement the function `train_neural_network` to do a single optimization.  The optimization should use `optimizer` to optimize in `session` with a `feed_dict` of the following:\n",
    "* `x` for image input\n",
    "* `y` for labels\n",
    "* `keep_prob` for keep probability for dropout\n",
    "\n",
    "This function will be called for each batch, so `tf.global_variables_initializer()` has already been called.\n",
    "\n",
    "Note: Nothing needs to be returned. This function is only optimizing the neural network."
   ]
  },
  {
   "cell_type": "code",
   "execution_count": 58,
   "metadata": {
    "collapsed": false,
    "deletable": true,
    "editable": true
   },
   "outputs": [
    {
     "name": "stdout",
     "output_type": "stream",
     "text": [
      "Tests Passed\n"
     ]
    }
   ],
   "source": [
    "def train_neural_network(session, optimizer, keep_probability, feature_batch, label_batch):\n",
    "    \"\"\"\n",
    "    Optimize the session on a batch of images and labels\n",
    "    : session: Current TensorFlow session\n",
    "    : optimizer: TensorFlow optimizer function\n",
    "    : keep_probability: keep probability\n",
    "    : feature_batch: Batch of Numpy image data\n",
    "    : label_batch: Batch of Numpy label data\n",
    "    \"\"\"\n",
    "    # TODO: Implement Function\n",
    "    feed_dict_train = { x: feature_batch,\n",
    "                        y: label_batch,\n",
    "                        keep_prob: keep_probability\n",
    "    }\n",
    "    \n",
    "    session.run(optimizer, feed_dict=feed_dict_train)\n",
    "\n",
    "\n",
    "\"\"\"\n",
    "DON'T MODIFY ANYTHING IN THIS CELL THAT IS BELOW THIS LINE\n",
    "\"\"\"\n",
    "tests.test_train_nn(train_neural_network)"
   ]
  },
  {
   "cell_type": "markdown",
   "metadata": {
    "deletable": true,
    "editable": true
   },
   "source": [
    "### Show Stats\n",
    "Implement the function `print_stats` to print loss and validation accuracy.  Use the global variables `valid_features` and `valid_labels` to calculate validation accuracy.  Use a keep probability of `1.0` to calculate the loss and validation accuracy."
   ]
  },
  {
   "cell_type": "code",
   "execution_count": 59,
   "metadata": {
    "collapsed": false,
    "deletable": true,
    "editable": true
   },
   "outputs": [],
   "source": [
    "def print_stats(session, feature_batch, label_batch, cost, accuracy):\n",
    "    \"\"\"\n",
    "    Print information about loss and validation accuracy\n",
    "    : session: Current TensorFlow session\n",
    "    : feature_batch: Batch of Numpy image data\n",
    "    : label_batch: Batch of Numpy label data\n",
    "    : cost: TensorFlow cost function\n",
    "    : accuracy: TensorFlow accuracy function\n",
    "    \"\"\"\n",
    "    # TODO: Implement Function\n",
    "    loss = session.run(cost, feed_dict={x: feature_batch,\n",
    "                                        y: label_batch,\n",
    "                                        keep_prob: 1.0})\n",
    "    valid_acc = session.run(accuracy, feed_dict={x: valid_features,\n",
    "                                                 y: valid_labels, \n",
    "                                                 keep_prob: 1.0})\n",
    "\n",
    "    print('Loss:{:>10.4f} Accuracy:{:.6f}'.format(loss, valid_acc))"
   ]
  },
  {
   "cell_type": "markdown",
   "metadata": {
    "deletable": true,
    "editable": true
   },
   "source": [
    "### Hyperparameters\n",
    "Tune the following parameters:\n",
    "* Set `epochs` to the number of iterations until the network stops learning or start overfitting\n",
    "* Set `batch_size` to the highest number that your machine has memory for.  Most people set them to common sizes of memory:\n",
    " * 64\n",
    " * 128\n",
    " * 256\n",
    " * ...\n",
    "* Set `keep_probability` to the probability of keeping a node using dropout"
   ]
  },
  {
   "cell_type": "code",
   "execution_count": 62,
   "metadata": {
    "collapsed": true,
    "deletable": true,
    "editable": true
   },
   "outputs": [],
   "source": [
    "# TODO: Tune Parameters\n",
    "epochs = 35\n",
    "batch_size = 512\n",
    "keep_probability = 0.5"
   ]
  },
  {
   "cell_type": "markdown",
   "metadata": {
    "deletable": true,
    "editable": true
   },
   "source": [
    "### Train on a Single CIFAR-10 Batch\n",
    "Instead of training the neural network on all the CIFAR-10 batches of data, let's use a single batch. This should save time while you iterate on the model to get a better accuracy.  Once the final validation accuracy is 50% or greater, run the model on all the data in the next section."
   ]
  },
  {
   "cell_type": "code",
   "execution_count": 63,
   "metadata": {
    "collapsed": false,
    "deletable": true,
    "editable": true,
    "scrolled": true
   },
   "outputs": [
    {
     "name": "stdout",
     "output_type": "stream",
     "text": [
      "Checking the Training on a Single Batch...\n",
      "Epoch  1, CIFAR-10 Batch 1:  Loss:    2.2337 Accuracy:0.234400\n",
      "Epoch  2, CIFAR-10 Batch 1:  Loss:    2.1117 Accuracy:0.261200\n",
      "Epoch  3, CIFAR-10 Batch 1:  Loss:    2.0132 Accuracy:0.325200\n",
      "Epoch  4, CIFAR-10 Batch 1:  Loss:    1.9559 Accuracy:0.354800\n",
      "Epoch  5, CIFAR-10 Batch 1:  Loss:    1.8829 Accuracy:0.360000\n",
      "Epoch  6, CIFAR-10 Batch 1:  Loss:    1.8149 Accuracy:0.394800\n",
      "Epoch  7, CIFAR-10 Batch 1:  Loss:    1.7491 Accuracy:0.411600\n",
      "Epoch  8, CIFAR-10 Batch 1:  Loss:    1.7153 Accuracy:0.423200\n",
      "Epoch  9, CIFAR-10 Batch 1:  Loss:    1.6574 Accuracy:0.432200\n",
      "Epoch 10, CIFAR-10 Batch 1:  Loss:    1.6244 Accuracy:0.443800\n",
      "Epoch 11, CIFAR-10 Batch 1:  Loss:    1.5927 Accuracy:0.459400\n",
      "Epoch 12, CIFAR-10 Batch 1:  Loss:    1.5610 Accuracy:0.475200\n",
      "Epoch 13, CIFAR-10 Batch 1:  Loss:    1.5551 Accuracy:0.478400\n",
      "Epoch 14, CIFAR-10 Batch 1:  Loss:    1.5300 Accuracy:0.471600\n",
      "Epoch 15, CIFAR-10 Batch 1:  Loss:    1.5170 Accuracy:0.480600\n",
      "Epoch 16, CIFAR-10 Batch 1:  Loss:    1.4719 Accuracy:0.494400\n",
      "Epoch 17, CIFAR-10 Batch 1:  Loss:    1.4475 Accuracy:0.489400\n",
      "Epoch 18, CIFAR-10 Batch 1:  Loss:    1.4343 Accuracy:0.494800\n",
      "Epoch 19, CIFAR-10 Batch 1:  Loss:    1.3932 Accuracy:0.502800\n",
      "Epoch 20, CIFAR-10 Batch 1:  Loss:    1.3553 Accuracy:0.511800\n",
      "Epoch 21, CIFAR-10 Batch 1:  Loss:    1.3899 Accuracy:0.499400\n",
      "Epoch 22, CIFAR-10 Batch 1:  Loss:    1.3152 Accuracy:0.501200\n",
      "Epoch 23, CIFAR-10 Batch 1:  Loss:    1.2935 Accuracy:0.507000\n",
      "Epoch 24, CIFAR-10 Batch 1:  Loss:    1.2527 Accuracy:0.526200\n",
      "Epoch 25, CIFAR-10 Batch 1:  Loss:    1.2690 Accuracy:0.515200\n",
      "Epoch 26, CIFAR-10 Batch 1:  Loss:    1.2414 Accuracy:0.507000\n",
      "Epoch 27, CIFAR-10 Batch 1:  Loss:    1.1969 Accuracy:0.521600\n",
      "Epoch 28, CIFAR-10 Batch 1:  Loss:    1.1737 Accuracy:0.526000\n",
      "Epoch 29, CIFAR-10 Batch 1:  Loss:    1.1339 Accuracy:0.525000\n",
      "Epoch 30, CIFAR-10 Batch 1:  Loss:    1.1259 Accuracy:0.532400\n",
      "Epoch 31, CIFAR-10 Batch 1:  Loss:    1.0710 Accuracy:0.538800\n",
      "Epoch 32, CIFAR-10 Batch 1:  Loss:    1.0432 Accuracy:0.535000\n",
      "Epoch 33, CIFAR-10 Batch 1:  Loss:    1.0692 Accuracy:0.524200\n",
      "Epoch 34, CIFAR-10 Batch 1:  Loss:    0.9971 Accuracy:0.536400\n",
      "Epoch 35, CIFAR-10 Batch 1:  Loss:    0.9591 Accuracy:0.543400\n"
     ]
    }
   ],
   "source": [
    "\"\"\"\n",
    "DON'T MODIFY ANYTHING IN THIS CELL\n",
    "\"\"\"\n",
    "print('Checking the Training on a Single Batch...')\n",
    "with tf.Session() as sess:\n",
    "    # Initializing the variables\n",
    "    sess.run(tf.global_variables_initializer())\n",
    "    \n",
    "    # Training cycle\n",
    "    for epoch in range(epochs):\n",
    "        batch_i = 1\n",
    "        for batch_features, batch_labels in helper.load_preprocess_training_batch(batch_i, batch_size):\n",
    "            train_neural_network(sess, optimizer, keep_probability, batch_features, batch_labels)\n",
    "        print('Epoch {:>2}, CIFAR-10 Batch {}:  '.format(epoch + 1, batch_i), end='')\n",
    "        print_stats(sess, batch_features, batch_labels, cost, accuracy)"
   ]
  },
  {
   "cell_type": "markdown",
   "metadata": {
    "deletable": true,
    "editable": true
   },
   "source": [
    "### Fully Train the Model\n",
    "Now that you got a good accuracy with a single CIFAR-10 batch, try it with all five batches."
   ]
  },
  {
   "cell_type": "code",
   "execution_count": 64,
   "metadata": {
    "collapsed": false,
    "deletable": true,
    "editable": true
   },
   "outputs": [
    {
     "name": "stdout",
     "output_type": "stream",
     "text": [
      "Training...\n",
      "Epoch  1, CIFAR-10 Batch 1:  Loss:    2.2629 Accuracy:0.196000\n",
      "Epoch  1, CIFAR-10 Batch 2:  Loss:    2.2301 Accuracy:0.212800\n",
      "Epoch  1, CIFAR-10 Batch 3:  Loss:    2.2405 Accuracy:0.164400\n",
      "Epoch  1, CIFAR-10 Batch 4:  Loss:    2.1470 Accuracy:0.240800\n",
      "Epoch  1, CIFAR-10 Batch 5:  Loss:    2.1397 Accuracy:0.251000\n",
      "Epoch  2, CIFAR-10 Batch 1:  Loss:    2.0924 Accuracy:0.312000\n",
      "Epoch  2, CIFAR-10 Batch 2:  Loss:    2.0892 Accuracy:0.310400\n",
      "Epoch  2, CIFAR-10 Batch 3:  Loss:    2.0091 Accuracy:0.286000\n",
      "Epoch  2, CIFAR-10 Batch 4:  Loss:    1.9595 Accuracy:0.324800\n",
      "Epoch  2, CIFAR-10 Batch 5:  Loss:    1.9241 Accuracy:0.360000\n",
      "Epoch  3, CIFAR-10 Batch 1:  Loss:    1.9627 Accuracy:0.382400\n",
      "Epoch  3, CIFAR-10 Batch 2:  Loss:    1.8693 Accuracy:0.400400\n",
      "Epoch  3, CIFAR-10 Batch 3:  Loss:    1.7742 Accuracy:0.385800\n",
      "Epoch  3, CIFAR-10 Batch 4:  Loss:    1.7637 Accuracy:0.399200\n",
      "Epoch  3, CIFAR-10 Batch 5:  Loss:    1.7728 Accuracy:0.382600\n",
      "Epoch  4, CIFAR-10 Batch 1:  Loss:    1.8432 Accuracy:0.427200\n",
      "Epoch  4, CIFAR-10 Batch 2:  Loss:    1.7706 Accuracy:0.436600\n",
      "Epoch  4, CIFAR-10 Batch 3:  Loss:    1.6931 Accuracy:0.422000\n",
      "Epoch  4, CIFAR-10 Batch 4:  Loss:    1.6502 Accuracy:0.445800\n",
      "Epoch  4, CIFAR-10 Batch 5:  Loss:    1.6533 Accuracy:0.428600\n",
      "Epoch  5, CIFAR-10 Batch 1:  Loss:    1.7218 Accuracy:0.465200\n",
      "Epoch  5, CIFAR-10 Batch 2:  Loss:    1.6787 Accuracy:0.466800\n",
      "Epoch  5, CIFAR-10 Batch 3:  Loss:    1.5860 Accuracy:0.455200\n",
      "Epoch  5, CIFAR-10 Batch 4:  Loss:    1.5405 Accuracy:0.476600\n",
      "Epoch  5, CIFAR-10 Batch 5:  Loss:    1.5791 Accuracy:0.463600\n",
      "Epoch  6, CIFAR-10 Batch 1:  Loss:    1.6644 Accuracy:0.489400\n",
      "Epoch  6, CIFAR-10 Batch 2:  Loss:    1.6296 Accuracy:0.491400\n",
      "Epoch  6, CIFAR-10 Batch 3:  Loss:    1.5082 Accuracy:0.487000\n",
      "Epoch  6, CIFAR-10 Batch 4:  Loss:    1.4953 Accuracy:0.483600\n",
      "Epoch  6, CIFAR-10 Batch 5:  Loss:    1.5030 Accuracy:0.492400\n",
      "Epoch  7, CIFAR-10 Batch 1:  Loss:    1.6062 Accuracy:0.499600\n",
      "Epoch  7, CIFAR-10 Batch 2:  Loss:    1.5761 Accuracy:0.507600\n",
      "Epoch  7, CIFAR-10 Batch 3:  Loss:    1.4775 Accuracy:0.494600\n",
      "Epoch  7, CIFAR-10 Batch 4:  Loss:    1.4357 Accuracy:0.502400\n",
      "Epoch  7, CIFAR-10 Batch 5:  Loss:    1.4362 Accuracy:0.505000\n",
      "Epoch  8, CIFAR-10 Batch 1:  Loss:    1.5513 Accuracy:0.507800\n",
      "Epoch  8, CIFAR-10 Batch 2:  Loss:    1.5196 Accuracy:0.522800\n",
      "Epoch  8, CIFAR-10 Batch 3:  Loss:    1.4340 Accuracy:0.501400\n",
      "Epoch  8, CIFAR-10 Batch 4:  Loss:    1.4011 Accuracy:0.505800\n",
      "Epoch  8, CIFAR-10 Batch 5:  Loss:    1.4309 Accuracy:0.498000\n",
      "Epoch  9, CIFAR-10 Batch 1:  Loss:    1.5225 Accuracy:0.507600\n",
      "Epoch  9, CIFAR-10 Batch 2:  Loss:    1.4914 Accuracy:0.526400\n",
      "Epoch  9, CIFAR-10 Batch 3:  Loss:    1.4059 Accuracy:0.523800\n",
      "Epoch  9, CIFAR-10 Batch 4:  Loss:    1.3743 Accuracy:0.517200\n",
      "Epoch  9, CIFAR-10 Batch 5:  Loss:    1.3945 Accuracy:0.514800\n",
      "Epoch 10, CIFAR-10 Batch 1:  Loss:    1.4648 Accuracy:0.534400\n",
      "Epoch 10, CIFAR-10 Batch 2:  Loss:    1.4534 Accuracy:0.539800\n",
      "Epoch 10, CIFAR-10 Batch 3:  Loss:    1.3727 Accuracy:0.529000\n",
      "Epoch 10, CIFAR-10 Batch 4:  Loss:    1.3435 Accuracy:0.520200\n",
      "Epoch 10, CIFAR-10 Batch 5:  Loss:    1.3680 Accuracy:0.521600\n",
      "Epoch 11, CIFAR-10 Batch 1:  Loss:    1.4366 Accuracy:0.537000\n",
      "Epoch 11, CIFAR-10 Batch 2:  Loss:    1.4323 Accuracy:0.538000\n",
      "Epoch 11, CIFAR-10 Batch 3:  Loss:    1.3378 Accuracy:0.538000\n",
      "Epoch 11, CIFAR-10 Batch 4:  Loss:    1.3013 Accuracy:0.537200\n",
      "Epoch 11, CIFAR-10 Batch 5:  Loss:    1.3261 Accuracy:0.537200\n",
      "Epoch 12, CIFAR-10 Batch 1:  Loss:    1.4012 Accuracy:0.544200\n",
      "Epoch 12, CIFAR-10 Batch 2:  Loss:    1.4000 Accuracy:0.546000\n",
      "Epoch 12, CIFAR-10 Batch 3:  Loss:    1.3146 Accuracy:0.544200\n",
      "Epoch 12, CIFAR-10 Batch 4:  Loss:    1.2808 Accuracy:0.538400\n",
      "Epoch 12, CIFAR-10 Batch 5:  Loss:    1.3277 Accuracy:0.523400\n",
      "Epoch 13, CIFAR-10 Batch 1:  Loss:    1.3750 Accuracy:0.551200\n",
      "Epoch 13, CIFAR-10 Batch 2:  Loss:    1.3940 Accuracy:0.543200\n",
      "Epoch 13, CIFAR-10 Batch 3:  Loss:    1.3052 Accuracy:0.549400\n",
      "Epoch 13, CIFAR-10 Batch 4:  Loss:    1.2551 Accuracy:0.550200\n",
      "Epoch 13, CIFAR-10 Batch 5:  Loss:    1.3019 Accuracy:0.536400\n",
      "Epoch 14, CIFAR-10 Batch 1:  Loss:    1.3582 Accuracy:0.557000\n",
      "Epoch 14, CIFAR-10 Batch 2:  Loss:    1.3579 Accuracy:0.552000\n",
      "Epoch 14, CIFAR-10 Batch 3:  Loss:    1.3068 Accuracy:0.534800\n",
      "Epoch 14, CIFAR-10 Batch 4:  Loss:    1.2514 Accuracy:0.544800\n",
      "Epoch 14, CIFAR-10 Batch 5:  Loss:    1.2849 Accuracy:0.546800\n",
      "Epoch 15, CIFAR-10 Batch 1:  Loss:    1.3331 Accuracy:0.554200\n",
      "Epoch 15, CIFAR-10 Batch 2:  Loss:    1.3531 Accuracy:0.551200\n",
      "Epoch 15, CIFAR-10 Batch 3:  Loss:    1.2850 Accuracy:0.538400\n",
      "Epoch 15, CIFAR-10 Batch 4:  Loss:    1.2273 Accuracy:0.553400\n",
      "Epoch 15, CIFAR-10 Batch 5:  Loss:    1.2604 Accuracy:0.546600\n",
      "Epoch 16, CIFAR-10 Batch 1:  Loss:    1.3050 Accuracy:0.553400\n",
      "Epoch 16, CIFAR-10 Batch 2:  Loss:    1.3255 Accuracy:0.554600\n",
      "Epoch 16, CIFAR-10 Batch 3:  Loss:    1.2829 Accuracy:0.535400\n",
      "Epoch 16, CIFAR-10 Batch 4:  Loss:    1.2023 Accuracy:0.552600\n",
      "Epoch 16, CIFAR-10 Batch 5:  Loss:    1.2581 Accuracy:0.545400\n",
      "Epoch 17, CIFAR-10 Batch 1:  Loss:    1.2931 Accuracy:0.557600\n",
      "Epoch 17, CIFAR-10 Batch 2:  Loss:    1.3358 Accuracy:0.546200\n",
      "Epoch 17, CIFAR-10 Batch 3:  Loss:    1.2605 Accuracy:0.546600\n",
      "Epoch 17, CIFAR-10 Batch 4:  Loss:    1.1884 Accuracy:0.551800\n",
      "Epoch 17, CIFAR-10 Batch 5:  Loss:    1.2376 Accuracy:0.551600\n",
      "Epoch 18, CIFAR-10 Batch 1:  Loss:    1.2761 Accuracy:0.545200\n",
      "Epoch 18, CIFAR-10 Batch 2:  Loss:    1.3613 Accuracy:0.536200\n",
      "Epoch 18, CIFAR-10 Batch 3:  Loss:    1.2204 Accuracy:0.555000\n",
      "Epoch 18, CIFAR-10 Batch 4:  Loss:    1.1580 Accuracy:0.560000\n",
      "Epoch 18, CIFAR-10 Batch 5:  Loss:    1.2298 Accuracy:0.552400\n",
      "Epoch 19, CIFAR-10 Batch 1:  Loss:    1.2799 Accuracy:0.556800\n",
      "Epoch 19, CIFAR-10 Batch 2:  Loss:    1.3061 Accuracy:0.571800\n",
      "Epoch 19, CIFAR-10 Batch 3:  Loss:    1.0853 Accuracy:0.595800\n",
      "Epoch 19, CIFAR-10 Batch 4:  Loss:    1.0228 Accuracy:0.606800\n",
      "Epoch 19, CIFAR-10 Batch 5:  Loss:    1.0855 Accuracy:0.604000\n",
      "Epoch 20, CIFAR-10 Batch 1:  Loss:    1.1043 Accuracy:0.595400\n",
      "Epoch 20, CIFAR-10 Batch 2:  Loss:    1.2199 Accuracy:0.581800\n",
      "Epoch 20, CIFAR-10 Batch 3:  Loss:    1.0649 Accuracy:0.599600\n",
      "Epoch 20, CIFAR-10 Batch 4:  Loss:    1.0149 Accuracy:0.608800\n",
      "Epoch 20, CIFAR-10 Batch 5:  Loss:    1.0412 Accuracy:0.615600\n",
      "Epoch 21, CIFAR-10 Batch 1:  Loss:    0.9248 Accuracy:0.618800\n",
      "Epoch 21, CIFAR-10 Batch 2:  Loss:    0.9561 Accuracy:0.625000\n",
      "Epoch 21, CIFAR-10 Batch 3:  Loss:    0.8328 Accuracy:0.635000\n",
      "Epoch 21, CIFAR-10 Batch 4:  Loss:    0.8049 Accuracy:0.647600\n",
      "Epoch 21, CIFAR-10 Batch 5:  Loss:    0.8869 Accuracy:0.642200\n",
      "Epoch 22, CIFAR-10 Batch 1:  Loss:    0.9116 Accuracy:0.647000\n",
      "Epoch 22, CIFAR-10 Batch 2:  Loss:    0.8833 Accuracy:0.633400\n",
      "Epoch 22, CIFAR-10 Batch 3:  Loss:    0.7979 Accuracy:0.629200\n",
      "Epoch 22, CIFAR-10 Batch 4:  Loss:    0.7766 Accuracy:0.650000\n",
      "Epoch 22, CIFAR-10 Batch 5:  Loss:    0.8655 Accuracy:0.642400\n",
      "Epoch 23, CIFAR-10 Batch 1:  Loss:    0.9205 Accuracy:0.626600\n",
      "Epoch 23, CIFAR-10 Batch 2:  Loss:    0.8919 Accuracy:0.622200\n",
      "Epoch 23, CIFAR-10 Batch 3:  Loss:    0.8010 Accuracy:0.634400\n",
      "Epoch 23, CIFAR-10 Batch 4:  Loss:    0.7388 Accuracy:0.655800\n",
      "Epoch 23, CIFAR-10 Batch 5:  Loss:    0.8439 Accuracy:0.648400\n",
      "Epoch 24, CIFAR-10 Batch 1:  Loss:    0.8693 Accuracy:0.636400\n",
      "Epoch 24, CIFAR-10 Batch 2:  Loss:    0.8956 Accuracy:0.618600\n",
      "Epoch 24, CIFAR-10 Batch 3:  Loss:    0.7602 Accuracy:0.647800\n",
      "Epoch 24, CIFAR-10 Batch 4:  Loss:    0.7314 Accuracy:0.654600\n",
      "Epoch 24, CIFAR-10 Batch 5:  Loss:    0.8166 Accuracy:0.649000\n",
      "Epoch 25, CIFAR-10 Batch 1:  Loss:    0.8627 Accuracy:0.640600\n",
      "Epoch 25, CIFAR-10 Batch 2:  Loss:    0.8846 Accuracy:0.617000\n",
      "Epoch 25, CIFAR-10 Batch 3:  Loss:    0.7703 Accuracy:0.642400\n",
      "Epoch 25, CIFAR-10 Batch 4:  Loss:    0.7199 Accuracy:0.662600\n",
      "Epoch 25, CIFAR-10 Batch 5:  Loss:    0.7830 Accuracy:0.653400\n",
      "Epoch 26, CIFAR-10 Batch 1:  Loss:    0.8215 Accuracy:0.648400\n",
      "Epoch 26, CIFAR-10 Batch 2:  Loss:    0.8627 Accuracy:0.621800\n",
      "Epoch 26, CIFAR-10 Batch 3:  Loss:    0.7246 Accuracy:0.659400\n",
      "Epoch 26, CIFAR-10 Batch 4:  Loss:    0.7142 Accuracy:0.652800\n",
      "Epoch 26, CIFAR-10 Batch 5:  Loss:    0.7801 Accuracy:0.654400\n",
      "Epoch 27, CIFAR-10 Batch 1:  Loss:    0.8154 Accuracy:0.646000\n",
      "Epoch 27, CIFAR-10 Batch 2:  Loss:    0.8902 Accuracy:0.616000\n",
      "Epoch 27, CIFAR-10 Batch 3:  Loss:    0.7260 Accuracy:0.648400\n",
      "Epoch 27, CIFAR-10 Batch 4:  Loss:    0.7095 Accuracy:0.655200\n",
      "Epoch 27, CIFAR-10 Batch 5:  Loss:    0.8062 Accuracy:0.643200\n",
      "Epoch 28, CIFAR-10 Batch 1:  Loss:    0.8187 Accuracy:0.648400\n",
      "Epoch 28, CIFAR-10 Batch 2:  Loss:    0.8410 Accuracy:0.620200\n",
      "Epoch 28, CIFAR-10 Batch 3:  Loss:    0.6957 Accuracy:0.659800\n",
      "Epoch 28, CIFAR-10 Batch 4:  Loss:    0.6990 Accuracy:0.658600\n",
      "Epoch 28, CIFAR-10 Batch 5:  Loss:    0.7789 Accuracy:0.654600\n",
      "Epoch 29, CIFAR-10 Batch 1:  Loss:    0.8162 Accuracy:0.647200\n",
      "Epoch 29, CIFAR-10 Batch 2:  Loss:    0.7949 Accuracy:0.642200\n",
      "Epoch 29, CIFAR-10 Batch 3:  Loss:    0.7075 Accuracy:0.650000\n",
      "Epoch 29, CIFAR-10 Batch 4:  Loss:    0.7081 Accuracy:0.654600\n",
      "Epoch 29, CIFAR-10 Batch 5:  Loss:    0.7689 Accuracy:0.651600\n",
      "Epoch 30, CIFAR-10 Batch 1:  Loss:    0.8101 Accuracy:0.649200\n",
      "Epoch 30, CIFAR-10 Batch 2:  Loss:    0.7868 Accuracy:0.644200\n",
      "Epoch 30, CIFAR-10 Batch 3:  Loss:    0.6478 Accuracy:0.665600\n",
      "Epoch 30, CIFAR-10 Batch 4:  Loss:    0.6957 Accuracy:0.652200\n",
      "Epoch 30, CIFAR-10 Batch 5:  Loss:    0.7395 Accuracy:0.657400\n",
      "Epoch 31, CIFAR-10 Batch 1:  Loss:    0.7913 Accuracy:0.641600\n",
      "Epoch 31, CIFAR-10 Batch 2:  Loss:    0.7680 Accuracy:0.641200\n",
      "Epoch 31, CIFAR-10 Batch 3:  Loss:    0.6666 Accuracy:0.656600\n",
      "Epoch 31, CIFAR-10 Batch 4:  Loss:    0.6850 Accuracy:0.657400\n",
      "Epoch 31, CIFAR-10 Batch 5:  Loss:    0.7175 Accuracy:0.660800\n",
      "Epoch 32, CIFAR-10 Batch 1:  Loss:    0.7404 Accuracy:0.659800\n",
      "Epoch 32, CIFAR-10 Batch 2:  Loss:    0.7527 Accuracy:0.649200\n",
      "Epoch 32, CIFAR-10 Batch 3:  Loss:    0.6624 Accuracy:0.655000\n",
      "Epoch 32, CIFAR-10 Batch 4:  Loss:    0.6724 Accuracy:0.652400\n",
      "Epoch 32, CIFAR-10 Batch 5:  Loss:    0.7271 Accuracy:0.656600\n",
      "Epoch 33, CIFAR-10 Batch 1:  Loss:    0.7557 Accuracy:0.652800\n",
      "Epoch 33, CIFAR-10 Batch 2:  Loss:    0.7204 Accuracy:0.659000\n",
      "Epoch 33, CIFAR-10 Batch 3:  Loss:    0.6695 Accuracy:0.649400\n",
      "Epoch 33, CIFAR-10 Batch 4:  Loss:    0.6568 Accuracy:0.654200\n",
      "Epoch 33, CIFAR-10 Batch 5:  Loss:    0.6919 Accuracy:0.665200\n",
      "Epoch 34, CIFAR-10 Batch 1:  Loss:    0.7462 Accuracy:0.653400\n",
      "Epoch 34, CIFAR-10 Batch 2:  Loss:    0.6941 Accuracy:0.659200\n",
      "Epoch 34, CIFAR-10 Batch 3:  Loss:    0.6560 Accuracy:0.647200\n",
      "Epoch 34, CIFAR-10 Batch 4:  Loss:    0.6321 Accuracy:0.658200\n",
      "Epoch 34, CIFAR-10 Batch 5:  Loss:    0.6943 Accuracy:0.660600\n",
      "Epoch 35, CIFAR-10 Batch 1:  Loss:    0.7479 Accuracy:0.651400\n",
      "Epoch 35, CIFAR-10 Batch 2:  Loss:    0.6915 Accuracy:0.661600\n",
      "Epoch 35, CIFAR-10 Batch 3:  Loss:    0.6278 Accuracy:0.652000\n",
      "Epoch 35, CIFAR-10 Batch 4:  Loss:    0.6273 Accuracy:0.657800\n",
      "Epoch 35, CIFAR-10 Batch 5:  Loss:    0.6744 Accuracy:0.664200\n"
     ]
    }
   ],
   "source": [
    "\"\"\"\n",
    "DON'T MODIFY ANYTHING IN THIS CELL\n",
    "\"\"\"\n",
    "save_model_path = './image_classification'\n",
    "\n",
    "print('Training...')\n",
    "with tf.Session() as sess:\n",
    "    # Initializing the variables\n",
    "    sess.run(tf.global_variables_initializer())\n",
    "    \n",
    "    # Training cycle\n",
    "    for epoch in range(epochs):\n",
    "        # Loop over all batches\n",
    "        n_batches = 5\n",
    "        for batch_i in range(1, n_batches + 1):\n",
    "            for batch_features, batch_labels in helper.load_preprocess_training_batch(batch_i, batch_size):\n",
    "                train_neural_network(sess, optimizer, keep_probability, batch_features, batch_labels)\n",
    "            print('Epoch {:>2}, CIFAR-10 Batch {}:  '.format(epoch + 1, batch_i), end='')\n",
    "            print_stats(sess, batch_features, batch_labels, cost, accuracy)\n",
    "            \n",
    "    # Save Model\n",
    "    saver = tf.train.Saver()\n",
    "    save_path = saver.save(sess, save_model_path)"
   ]
  },
  {
   "cell_type": "markdown",
   "metadata": {
    "deletable": true,
    "editable": true
   },
   "source": [
    "# Checkpoint\n",
    "The model has been saved to disk.\n",
    "## Test Model\n",
    "Test your model against the test dataset.  This will be your final accuracy. You should have an accuracy greater than 50%. If you don't, keep tweaking the model architecture and parameters."
   ]
  },
  {
   "cell_type": "code",
   "execution_count": 65,
   "metadata": {
    "collapsed": false,
    "deletable": true,
    "editable": true
   },
   "outputs": [
    {
     "name": "stdout",
     "output_type": "stream",
     "text": [
      "Testing Accuracy: 0.6580078125\n",
      "\n"
     ]
    },
    {
     "data": {
      "image/png": "[encoded data removed]",
      "text/plain": [
       "<matplotlib.figure.Figure at 0x7f0f206f6eb8>"
      ]
     },
     "metadata": {
      "image/png": {
       "height": 319,
       "width": 355
      }
     },
     "output_type": "display_data"
    }
   ],
   "source": [
    "\"\"\"\n",
    "DON'T MODIFY ANYTHING IN THIS CELL\n",
    "\"\"\"\n",
    "%matplotlib inline\n",
    "%config InlineBackend.figure_format = 'retina'\n",
    "\n",
    "import tensorflow as tf\n",
    "import pickle\n",
    "import helper\n",
    "import random\n",
    "\n",
    "# Set batch size if not already set\n",
    "try:\n",
    "    if batch_size:\n",
    "        pass\n",
    "except NameError:\n",
    "    batch_size = 64\n",
    "\n",
    "save_model_path = './image_classification'\n",
    "n_samples = 4\n",
    "top_n_predictions = 3\n",
    "\n",
    "def test_model():\n",
    "    \"\"\"\n",
    "    Test the saved model against the test dataset\n",
    "    \"\"\"\n",
    "\n",
    "    test_features, test_labels = pickle.load(open('preprocess_training.p', mode='rb'))\n",
    "    loaded_graph = tf.Graph()\n",
    "\n",
    "    with tf.Session(graph=loaded_graph) as sess:\n",
    "        # Load model\n",
    "        loader = tf.train.import_meta_graph(save_model_path + '.meta')\n",
    "        loader.restore(sess, save_model_path)\n",
    "\n",
    "        # Get Tensors from loaded model\n",
    "        loaded_x = loaded_graph.get_tensor_by_name('x:0')\n",
    "        loaded_y = loaded_graph.get_tensor_by_name('y:0')\n",
    "        loaded_keep_prob = loaded_graph.get_tensor_by_name('keep_prob:0')\n",
    "        loaded_logits = loaded_graph.get_tensor_by_name('logits:0')\n",
    "        loaded_acc = loaded_graph.get_tensor_by_name('accuracy:0')\n",
    "        \n",
    "        # Get accuracy in batches for memory limitations\n",
    "        test_batch_acc_total = 0\n",
    "        test_batch_count = 0\n",
    "        \n",
    "        for train_feature_batch, train_label_batch in helper.batch_features_labels(test_features, test_labels, batch_size):\n",
    "            test_batch_acc_total += sess.run(\n",
    "                loaded_acc,\n",
    "                feed_dict={loaded_x: train_feature_batch, loaded_y: train_label_batch, loaded_keep_prob: 1.0})\n",
    "            test_batch_count += 1\n",
    "\n",
    "        print('Testing Accuracy: {}\\n'.format(test_batch_acc_total/test_batch_count))\n",
    "\n",
    "        # Print Random Samples\n",
    "        random_test_features, random_test_labels = tuple(zip(*random.sample(list(zip(test_features, test_labels)), n_samples)))\n",
    "        random_test_predictions = sess.run(\n",
    "            tf.nn.top_k(tf.nn.softmax(loaded_logits), top_n_predictions),\n",
    "            feed_dict={loaded_x: random_test_features, loaded_y: random_test_labels, loaded_keep_prob: 1.0})\n",
    "        helper.display_image_predictions(random_test_features, random_test_labels, random_test_predictions)\n",
    "\n",
    "\n",
    "test_model()"
   ]
  },
  {
   "cell_type": "markdown",
   "metadata": {
    "deletable": true,
    "editable": true
   },
   "source": [
    "## Why 50-80% Accuracy?\n",
    "You might be wondering why you can't get an accuracy any higher. First things first, 50% isn't bad for a simple CNN.  Pure guessing would get you 10% accuracy. However, you might notice people are getting scores [well above 80%](http://rodrigob.github.io/are_we_there_yet/build/classification_datasets_results.html#43494641522d3130).  That's because we haven't taught you all there is to know about neural networks. We still need to cover a few more techniques.\n",
    "## Submitting This Project\n",
    "When submitting this project, make sure to run all the cells before saving the notebook.  Save the notebook file as \"dlnd_image_classification.ipynb\" and save it as a HTML file under \"File\" -> \"Download as\".  Include the \"helper.py\" and \"problem_unittests.py\" files in your submission."
   ]
  }
 ],
 "metadata": {
  "kernelspec": {
   "display_name": "Python 3",
   "language": "python",
   "name": "python3"
  },
  "language_info": {
   "codemirror_mode": {
    "name": "ipython",
    "version": 3
   },
   "file_extension": ".py",
   "mimetype": "text/x-python",
   "name": "python",
   "nbconvert_exporter": "python",
   "pygments_lexer": "ipython3",
   "version": "3.5.2"
  },
  "widgets": {
   "state": {},
   "version": "1.1.2"
  }
 },
 "nbformat": 4,
 "nbformat_minor": 0
}
